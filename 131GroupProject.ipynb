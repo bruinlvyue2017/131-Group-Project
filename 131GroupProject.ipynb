{
 "cells": [
  {
   "cell_type": "code",
   "execution_count": null,
   "metadata": {},
   "outputs": [],
   "source": [
    "import numpy as np\n",
    "import pandas as pd\n",
    "import matplotlib.pyplot as plt\n",
    "import seaborn as sns\n",
    "import statsmodels.api as sm\n",
    "import statsmodels.formula.api as smf\n",
    "from sklearn import linear_model\n",
    "from scipy.stats import ttest_ind"
   ]
  },
  {
   "cell_type": "code",
   "execution_count": null,
   "metadata": {},
   "outputs": [],
   "source": [
    "nba1415=pd.read_csv(\"//Users/yuelyu/Desktop/131-Group-Project/NBA14-15.csv\")\n",
    "nba1516=pd.read_csv(\"//Users/yuelyu/Desktop/131-Group-Project/NBA15-16.csv\")\n",
    "nba1617=pd.read_csv(\"//Users/yuelyu/Desktop/131-Group-Project/NBA16-17.csv\")\n",
    "nba1718=pd.read_csv(\"//Users/yuelyu/Desktop/131-Group-Project/NBA17-18.csv\")\n",
    "nba1819=pd.read_csv(\"//Users/yuelyu/Desktop/131-Group-Project/NBA18-19.csv\")\n",
    "nba1415['YEAR']=\"2014-15\"\n",
    "nba1516['YEAR']=\"2015-16\"\n",
    "nba1617['YEAR']=\"2016-17\"\n",
    "nba1718['YEAR']=\"2017-18\"\n",
    "nba1819['YEAR']=\"2018-19\"\n",
    "nba=pd.concat([nba1415,nba1516,nba1617,nba1718,nba1819])\n",
    "nba['TEAM']=np.where(nba['TEAM']=='Los Angeles Clippers','LA Clippers',nba['TEAM'])\n",
    "nba['NetPF']=nba.PFD-nba.PF\n",
    "nba.head()"
   ]
  },
  {
   "cell_type": "code",
   "execution_count": null,
   "metadata": {},
   "outputs": [],
   "source": [
    "good_team=nba.loc[nba.TEAM.isin(['Golden State Warriors','San Antonio Spurs','Toronto Raptors','Houston Rockets','LA Clippers'])]\n",
    "bad_team=nba.loc[nba.TEAM.isin(['New York Knicks','Phoenix Suns','Los Angeles Lakers','Brooklyn Nets','Orlando Magic'])]"
   ]
  }
 ],
 "metadata": {
  "kernelspec": {
   "display_name": "Python 3",
   "language": "python",
   "name": "python3"
  },
  "language_info": {
   "codemirror_mode": {
    "name": "ipython",
    "version": 3
   },
   "file_extension": ".py",
   "mimetype": "text/x-python",
   "name": "python",
   "nbconvert_exporter": "python",
   "pygments_lexer": "ipython3",
   "version": "3.7.3"
  }
 },
 "nbformat": 4,
 "nbformat_minor": 2
}
