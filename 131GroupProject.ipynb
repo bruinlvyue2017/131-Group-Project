{
 "cells": [
  {
   "cell_type": "markdown",
   "metadata": {},
   "source": [
    "# Team Vintage: What affects NBA Teams Wins"
   ]
  },
  {
   "cell_type": "markdown",
   "metadata": {},
   "source": [
    "## Members: Yue Lyu, Yurui Zhang, Qixin Li, Ronghao Liu"
   ]
  },
  {
   "cell_type": "markdown",
   "metadata": {},
   "source": [
    "## Abstract\n",
    "Basketball is a team sport in which two teams of five players each, competing with one another to put the ball inside the opposing team’s basket. Based on common knowledge, if a team outscores its opponent, then it wins the game. NBA (National Basketball Association) is the consensus best men’s basketball league in the world. We want to dig out more factors which possibly affect the Win percentages of NBA teams aside from their field goal percentages or offensive ratings. Therefore, our study aims to determine which factors significantly affect Win percentages and thus differ a “bad” team from a “good” team. We chose five teams which have the highest average Win percentages during the past five regular seasons(2014-15 to 2018-19) as \"good teams\", and we chose five teams with the lowest average Win percentages and categorized them as “bad teams”. By visualizing the differences in many statistics between good teams and bad teams, we found several interesting variables: Field Goal Attempt (total shots), Offensive Rebounds (team gets the ball of its own miss), Block Field Goal Attempted (try to block on shots made), and Pace (number of possessions per 48 minutes). Bad teams on average scores higher in these four categories than good teams do. We did t-test on each of these variables and found that FGA and PACE do not differ much between good and bad teams. So we conducted multiple linear regressions between Wins, OREB and BLKA. We found the p-values of Offensive Rebounds and Block Field Goal Attempted are not significant for good or bad teams, but BLKA became significant when we apply the model on all teams. As a result, we reached a conclusion that if a NBA team wants to win more games, do not waste energy on trying to block every opponents' shot. "
   ]
  },
  {
   "cell_type": "markdown",
   "metadata": {},
   "source": [
    "## Background\n",
    "Basketball is a sport played between two teams of five players each. Two teams oppose one another and trying to shoot the basketball through defender’s hoop while preventing their own hoop from being shot through. NBA (The National Basketball Association) is a men’s professional basketball league in North America which is considered the premier men’s basketball league in the world. There are 30 teams in the NBA (29 in the United States and 1 in Canada). Those teams are split into two Conferences (West and East), and are further divided into 6 Divisions (Atlantic, Central, Southeast, Northwest, Pacific, and Southwest) based on where they are located. Each year, the NBA's regular season runs from October to April, with each team playing 82 games and 8 teams with the better winning records from each Conference will go to playoffs (16 teams in total). The playoffs extend into June when the Champion team arises from the winners of each Conference. "
   ]
  },
  {
   "cell_type": "markdown",
   "metadata": {},
   "source": [
    "Every basketball player has a position on the court. There are five positions in basketball: Point Guard (who handles the ball and initiate plays), Shooting Guard (literally, shoot to score), Small Forward (can be scorer as well, usually the most important player in each team), Power Forward (set screens and grab rebounds), and Center (center of the team, simple). However, with the evolution of basketball, nowadays the distinction between positions is blurred. Players would take different positions depend on different rosters.  "
   ]
  },
  {
   "cell_type": "markdown",
   "metadata": {},
   "source": [
    "In the basketball world, players are credited in many ways. But scorers are always preferable because overall basketball is a game in which the higher scoring team wins. As 3 pointer is increasingly more valued by NBA teams, scorers who specialize in shooting 3s have become more popular. On the other hand, defenders who compete for every rebound and sacrifice their body to defend and hustle are also welcomed by NBA teams. "
   ]
  },
  {
   "cell_type": "code",
   "execution_count": null,
   "metadata": {},
   "outputs": [],
   "source": [
    "import numpy as np\n",
    "import pandas as pd\n",
    "import matplotlib.pyplot as plt\n",
    "import seaborn as sns\n",
    "import statsmodels.api as sm\n",
    "import statsmodels.formula.api as smf\n",
    "from sklearn import linear_model\n",
    "from scipy.stats import ttest_ind"
   ]
  },
  {
   "cell_type": "code",
   "execution_count": 2,
   "metadata": {},
   "outputs": [],
   "source": [
    "nba1415=pd.read_csv(\"//Users/yuelyu/Desktop/131-Group-Project/NBA14-15.csv\")\n",
    "nba1516=pd.read_csv(\"//Users/yuelyu/Desktop/131-Group-Project/NBA15-16.csv\")\n",
    "nba1617=pd.read_csv(\"//Users/yuelyu/Desktop/131-Group-Project/NBA16-17.csv\")\n",
    "nba1718=pd.read_csv(\"//Users/yuelyu/Desktop/131-Group-Project/NBA17-18.csv\")\n",
    "nba1819=pd.read_csv(\"//Users/yuelyu/Desktop/131-Group-Project/NBA18-19.csv\")\n",
    "nba1415['YEAR']=\"2014-15\"\n",
    "nba1516['YEAR']=\"2015-16\"\n",
    "nba1617['YEAR']=\"2016-17\"\n",
    "nba1718['YEAR']=\"2017-18\"\n",
    "nba1819['YEAR']=\"2018-19\""
   ]
  },
  {
   "cell_type": "code",
   "execution_count": 100,
   "metadata": {},
   "outputs": [
    {
     "data": {
      "text/html": [
       "<div>\n",
       "<style scoped>\n",
       "    .dataframe tbody tr th:only-of-type {\n",
       "        vertical-align: middle;\n",
       "    }\n",
       "\n",
       "    .dataframe tbody tr th {\n",
       "        vertical-align: top;\n",
       "    }\n",
       "\n",
       "    .dataframe thead th {\n",
       "        text-align: right;\n",
       "    }\n",
       "</style>\n",
       "<table border=\"1\" class=\"dataframe\">\n",
       "  <thead>\n",
       "    <tr style=\"text-align: right;\">\n",
       "      <th></th>\n",
       "      <th>TEAM</th>\n",
       "      <th>GP</th>\n",
       "      <th>W</th>\n",
       "      <th>L</th>\n",
       "      <th>WIN%</th>\n",
       "      <th>MIN</th>\n",
       "      <th>PTS</th>\n",
       "      <th>FGM</th>\n",
       "      <th>FGA</th>\n",
       "      <th>FG%</th>\n",
       "      <th>...</th>\n",
       "      <th>DREB%</th>\n",
       "      <th>REB%</th>\n",
       "      <th>TOV%</th>\n",
       "      <th>EFG%</th>\n",
       "      <th>TS%</th>\n",
       "      <th>PACE</th>\n",
       "      <th>PIE</th>\n",
       "      <th>YEAR</th>\n",
       "      <th>2PM</th>\n",
       "      <th>2PA</th>\n",
       "    </tr>\n",
       "  </thead>\n",
       "  <tbody>\n",
       "    <tr>\n",
       "      <th>0</th>\n",
       "      <td>Golden State Warriors</td>\n",
       "      <td>82</td>\n",
       "      <td>67</td>\n",
       "      <td>15</td>\n",
       "      <td>0.817</td>\n",
       "      <td>3946</td>\n",
       "      <td>9016</td>\n",
       "      <td>3410</td>\n",
       "      <td>7137</td>\n",
       "      <td>47.8</td>\n",
       "      <td>...</td>\n",
       "      <td>70.3</td>\n",
       "      <td>49.8</td>\n",
       "      <td>14.5</td>\n",
       "      <td>54.0</td>\n",
       "      <td>57.1</td>\n",
       "      <td>99.29</td>\n",
       "      <td>56.9</td>\n",
       "      <td>2014-15</td>\n",
       "      <td>2527</td>\n",
       "      <td>4920</td>\n",
       "    </tr>\n",
       "    <tr>\n",
       "      <th>1</th>\n",
       "      <td>Atlanta Hawks</td>\n",
       "      <td>82</td>\n",
       "      <td>60</td>\n",
       "      <td>22</td>\n",
       "      <td>0.732</td>\n",
       "      <td>3946</td>\n",
       "      <td>8409</td>\n",
       "      <td>3121</td>\n",
       "      <td>6699</td>\n",
       "      <td>46.6</td>\n",
       "      <td>...</td>\n",
       "      <td>69.7</td>\n",
       "      <td>48.7</td>\n",
       "      <td>15.0</td>\n",
       "      <td>52.7</td>\n",
       "      <td>56.3</td>\n",
       "      <td>94.66</td>\n",
       "      <td>54.0</td>\n",
       "      <td>2014-15</td>\n",
       "      <td>2303</td>\n",
       "      <td>4547</td>\n",
       "    </tr>\n",
       "    <tr>\n",
       "      <th>2</th>\n",
       "      <td>Houston Rockets</td>\n",
       "      <td>82</td>\n",
       "      <td>56</td>\n",
       "      <td>26</td>\n",
       "      <td>0.683</td>\n",
       "      <td>3961</td>\n",
       "      <td>8522</td>\n",
       "      <td>3032</td>\n",
       "      <td>6832</td>\n",
       "      <td>44.4</td>\n",
       "      <td>...</td>\n",
       "      <td>68.6</td>\n",
       "      <td>49.6</td>\n",
       "      <td>17.0</td>\n",
       "      <td>51.2</td>\n",
       "      <td>54.8</td>\n",
       "      <td>97.38</td>\n",
       "      <td>50.9</td>\n",
       "      <td>2014-15</td>\n",
       "      <td>2099</td>\n",
       "      <td>4152</td>\n",
       "    </tr>\n",
       "    <tr>\n",
       "      <th>3</th>\n",
       "      <td>LA Clippers</td>\n",
       "      <td>82</td>\n",
       "      <td>56</td>\n",
       "      <td>26</td>\n",
       "      <td>0.683</td>\n",
       "      <td>3946</td>\n",
       "      <td>8751</td>\n",
       "      <td>3228</td>\n",
       "      <td>6830</td>\n",
       "      <td>47.3</td>\n",
       "      <td>...</td>\n",
       "      <td>71.6</td>\n",
       "      <td>49.7</td>\n",
       "      <td>12.9</td>\n",
       "      <td>53.3</td>\n",
       "      <td>56.5</td>\n",
       "      <td>95.41</td>\n",
       "      <td>54.0</td>\n",
       "      <td>2014-15</td>\n",
       "      <td>2401</td>\n",
       "      <td>4628</td>\n",
       "    </tr>\n",
       "    <tr>\n",
       "      <th>4</th>\n",
       "      <td>Memphis Grizzlies</td>\n",
       "      <td>82</td>\n",
       "      <td>55</td>\n",
       "      <td>27</td>\n",
       "      <td>0.671</td>\n",
       "      <td>3981</td>\n",
       "      <td>8062</td>\n",
       "      <td>3097</td>\n",
       "      <td>6763</td>\n",
       "      <td>45.8</td>\n",
       "      <td>...</td>\n",
       "      <td>71.6</td>\n",
       "      <td>50.3</td>\n",
       "      <td>14.2</td>\n",
       "      <td>48.9</td>\n",
       "      <td>53.1</td>\n",
       "      <td>92.85</td>\n",
       "      <td>53.0</td>\n",
       "      <td>2014-15</td>\n",
       "      <td>2674</td>\n",
       "      <td>5517</td>\n",
       "    </tr>\n",
       "  </tbody>\n",
       "</table>\n",
       "<p>5 rows × 44 columns</p>\n",
       "</div>"
      ],
      "text/plain": [
       "                    TEAM  GP   W   L   WIN%   MIN   PTS   FGM   FGA   FG%  \\\n",
       "0  Golden State Warriors  82  67  15  0.817  3946  9016  3410  7137  47.8   \n",
       "1          Atlanta Hawks  82  60  22  0.732  3946  8409  3121  6699  46.6   \n",
       "2        Houston Rockets  82  56  26  0.683  3961  8522  3032  6832  44.4   \n",
       "3            LA Clippers  82  56  26  0.683  3946  8751  3228  6830  47.3   \n",
       "4      Memphis Grizzlies  82  55  27  0.671  3981  8062  3097  6763  45.8   \n",
       "\n",
       "   ...  DREB%  REB%  TOV%  EFG%   TS%   PACE   PIE     YEAR   2PM   2PA  \n",
       "0  ...   70.3  49.8  14.5  54.0  57.1  99.29  56.9  2014-15  2527  4920  \n",
       "1  ...   69.7  48.7  15.0  52.7  56.3  94.66  54.0  2014-15  2303  4547  \n",
       "2  ...   68.6  49.6  17.0  51.2  54.8  97.38  50.9  2014-15  2099  4152  \n",
       "3  ...   71.6  49.7  12.9  53.3  56.5  95.41  54.0  2014-15  2401  4628  \n",
       "4  ...   71.6  50.3  14.2  48.9  53.1  92.85  53.0  2014-15  2674  5517  \n",
       "\n",
       "[5 rows x 44 columns]"
      ]
     },
     "execution_count": 100,
     "metadata": {},
     "output_type": "execute_result"
    }
   ],
   "source": [
    "nba=pd.concat([nba1415,nba1516,nba1617,nba1718,nba1819])\n",
    "nba['TEAM']=np.where(nba['TEAM']=='Los Angeles Clippers','LA Clippers',nba['TEAM'])\n",
    "nba['2PM']=nba.FGM-nba['3PM']\n",
    "nba['2PA']=nba.FGA-nba['3PA']\n",
    "nba.head()"
   ]
  },
  {
   "cell_type": "code",
   "execution_count": 4,
   "metadata": {},
   "outputs": [
    {
     "data": {
      "text/plain": [
       "(0, 6000)"
      ]
     },
     "execution_count": 4,
     "metadata": {},
     "output_type": "execute_result"
    },
    {
     "data": {
      "image/png": "[encoded data removed]",
      "text/plain": [
       "<Figure size 432x288 with 1 Axes>"
      ]
     },
     "metadata": {
      "needs_background": "light"
     },
     "output_type": "display_data"
    }
   ],
   "source": [
    "nba.groupby(['YEAR'])['3PA'].mean().plot()\n",
    "plt.ylim(0,6000)"
   ]
  },
  {
   "cell_type": "markdown",
   "metadata": {},
   "source": [
    "Over the past five Regular Seasons, NBA teams shot increasingly more 3 pointers."
   ]
  },
  {
   "cell_type": "code",
   "execution_count": 5,
   "metadata": {},
   "outputs": [
    {
     "data": {
      "text/plain": [
       "(0, 6000)"
      ]
     },
     "execution_count": 5,
     "metadata": {},
     "output_type": "execute_result"
    },
    {
     "data": {
      "image/png": "[encoded data removed]",
      "text/plain": [
       "<Figure size 432x288 with 1 Axes>"
      ]
     },
     "metadata": {
      "needs_background": "light"
     },
     "output_type": "display_data"
    }
   ],
   "source": [
    "nba.groupby(['YEAR'])['2PA'].mean().plot()\n",
    "plt.ylim(0,6000)"
   ]
  },
  {
   "cell_type": "markdown",
   "metadata": {},
   "source": [
    "Though 2 point shots haven't changed as much as 3 pointers attempts, we can still see a downward slope over the past five NBA Regular Seasons. It means NBA teams are taking less two pointer attempts."
   ]
  },
  {
   "cell_type": "markdown",
   "metadata": {},
   "source": [
    "So why NBA has the trend of shooting more 3s and less 2s? We wanna see how 2 and 3 pointers made translate into Game Wins."
   ]
  },
  {
   "cell_type": "code",
   "execution_count": 6,
   "metadata": {},
   "outputs": [
    {
     "data": {
      "text/plain": [
       "<seaborn.axisgrid.FacetGrid at 0x1c259228d0>"
      ]
     },
     "execution_count": 6,
     "metadata": {},
     "output_type": "execute_result"
    },
    {
     "data": {
      "image/png": "[encoded data removed]",
      "text/plain": [
       "<Figure size 360x360 with 1 Axes>"
      ]
     },
     "metadata": {
      "needs_background": "light"
     },
     "output_type": "display_data"
    }
   ],
   "source": [
    "sns.lmplot(x='2PA',y='W',data=nba,fit_reg= True)"
   ]
  },
  {
   "cell_type": "code",
   "execution_count": 7,
   "metadata": {},
   "outputs": [
    {
     "data": {
      "text/plain": [
       "<seaborn.axisgrid.FacetGrid at 0x1c25a744a8>"
      ]
     },
     "execution_count": 7,
     "metadata": {},
     "output_type": "execute_result"
    },
    {
     "data": {
      "image/png": "[encoded data removed]",
      "text/plain": [
       "<Figure size 360x360 with 1 Axes>"
      ]
     },
     "metadata": {
      "needs_background": "light"
     },
     "output_type": "display_data"
    }
   ],
   "source": [
    "sns.lmplot(x='3PA',y='W',data=nba,fit_reg= True)"
   ]
  },
  {
   "cell_type": "markdown",
   "metadata": {},
   "source": [
    "Linear plot shows that shooting more 3s obviously improves Wins while shooting more 2s would harm a NBA team."
   ]
  },
  {
   "cell_type": "code",
   "execution_count": 8,
   "metadata": {},
   "outputs": [
    {
     "name": "stdout",
     "output_type": "stream",
     "text": [
      "                            OLS Regression Results                            \n",
      "==============================================================================\n",
      "Dep. Variable:                    Win   R-squared:                       0.078\n",
      "Model:                            OLS   Adj. R-squared:                  0.071\n",
      "Method:                 Least Squares   F-statistic:                     12.44\n",
      "Date:                Mon, 03 Jun 2019   Prob (F-statistic):           0.000561\n",
      "Time:                        15:49:13   Log-Likelihood:                -584.23\n",
      "No. Observations:                 150   AIC:                             1172.\n",
      "Df Residuals:                     148   BIC:                             1178.\n",
      "Df Model:                           1                                         \n",
      "Covariance Type:            nonrobust                                         \n",
      "==============================================================================\n",
      "                 coef    std err          t      P>|t|      [0.025      0.975]\n",
      "------------------------------------------------------------------------------\n",
      "Intercept     85.3390     12.611      6.767      0.000      60.418     110.260\n",
      "TwoPA         -0.0092      0.003     -3.527      0.001      -0.014      -0.004\n",
      "==============================================================================\n",
      "Omnibus:                        1.327   Durbin-Watson:                   0.557\n",
      "Prob(Omnibus):                  0.515   Jarque-Bera (JB):                1.347\n",
      "Skew:                          -0.222   Prob(JB):                        0.510\n",
      "Kurtosis:                       2.862   Cond. No.                     6.25e+04\n",
      "==============================================================================\n",
      "\n",
      "Warnings:\n",
      "[1] Standard Errors assume that the covariance matrix of the errors is correctly specified.\n",
      "[2] The condition number is large, 6.25e+04. This might indicate that there are\n",
      "strong multicollinearity or other numerical problems.\n"
     ]
    }
   ],
   "source": [
    "df = pd.DataFrame({\"Win\": nba.W, \"TwoPA\":nba['2PA']})\n",
    "result = smf.ols(formula=\"Win~TwoPA\", data=df).fit()\n",
    "print(result.summary())"
   ]
  },
  {
   "cell_type": "markdown",
   "metadata": {},
   "source": [
    "From the linear regression model between Win and 2PM, we can see if a NBA team made one more 2 pointer, its Game Win would decrease by 0.0092, and a p value of 0.001 suggests significance, which means shooting 2s defintely hurt a team's wins."
   ]
  },
  {
   "cell_type": "code",
   "execution_count": 9,
   "metadata": {},
   "outputs": [
    {
     "name": "stdout",
     "output_type": "stream",
     "text": [
      "                            OLS Regression Results                            \n",
      "==============================================================================\n",
      "Dep. Variable:                    Win   R-squared:                       0.057\n",
      "Model:                            OLS   Adj. R-squared:                  0.051\n",
      "Method:                 Least Squares   F-statistic:                     9.021\n",
      "Date:                Mon, 03 Jun 2019   Prob (F-statistic):            0.00313\n",
      "Time:                        15:49:13   Log-Likelihood:                -585.84\n",
      "No. Observations:                 150   AIC:                             1176.\n",
      "Df Residuals:                     148   BIC:                             1182.\n",
      "Df Model:                           1                                         \n",
      "Covariance Type:            nonrobust                                         \n",
      "==============================================================================\n",
      "                 coef    std err          t      P>|t|      [0.025      0.975]\n",
      "------------------------------------------------------------------------------\n",
      "Intercept     26.1016      5.058      5.161      0.000      16.107      36.096\n",
      "ThreePA        0.0068      0.002      3.004      0.003       0.002       0.011\n",
      "==============================================================================\n",
      "Omnibus:                        1.169   Durbin-Watson:                   0.477\n",
      "Prob(Omnibus):                  0.557   Jarque-Bera (JB):                1.266\n",
      "Skew:                          -0.173   Prob(JB):                        0.531\n",
      "Kurtosis:                       2.711   Cond. No.                     1.15e+04\n",
      "==============================================================================\n",
      "\n",
      "Warnings:\n",
      "[1] Standard Errors assume that the covariance matrix of the errors is correctly specified.\n",
      "[2] The condition number is large, 1.15e+04. This might indicate that there are\n",
      "strong multicollinearity or other numerical problems.\n"
     ]
    }
   ],
   "source": [
    "df1 = pd.DataFrame({\"Win\": nba.W, \"ThreePA\":nba['3PA']})\n",
    "result1 = smf.ols(formula=\"Win~ThreePA\", data=df1).fit()\n",
    "print(result1.summary())"
   ]
  },
  {
   "cell_type": "markdown",
   "metadata": {},
   "source": [
    "From the linear regression model between Win and 3PA, we can see if a NBA team shoot one more 3 pointer, its Game Win would increase by 0.0068, and a p value of 0.003 suggests extreme significance."
   ]
  },
  {
   "cell_type": "markdown",
   "metadata": {},
   "source": [
    "As a result, we find it easy to explain why NBA teams are taking more 3s and less 2s, becasue making one more 3 will have 0.0222 more Game Wins than making one more 2."
   ]
  },
  {
   "cell_type": "code",
   "execution_count": 10,
   "metadata": {},
   "outputs": [
    {
     "data": {
      "text/html": [
       "<div>\n",
       "<style scoped>\n",
       "    .dataframe tbody tr th:only-of-type {\n",
       "        vertical-align: middle;\n",
       "    }\n",
       "\n",
       "    .dataframe tbody tr th {\n",
       "        vertical-align: top;\n",
       "    }\n",
       "\n",
       "    .dataframe thead th {\n",
       "        text-align: right;\n",
       "    }\n",
       "</style>\n",
       "<table border=\"1\" class=\"dataframe\">\n",
       "  <thead>\n",
       "    <tr style=\"text-align: right;\">\n",
       "      <th></th>\n",
       "      <th>W</th>\n",
       "      <th>2PA</th>\n",
       "      <th>3PA</th>\n",
       "    </tr>\n",
       "  </thead>\n",
       "  <tbody>\n",
       "    <tr>\n",
       "      <th>W</th>\n",
       "      <td>1.000000</td>\n",
       "      <td>-0.284186</td>\n",
       "      <td>0.225011</td>\n",
       "    </tr>\n",
       "    <tr>\n",
       "      <th>2PA</th>\n",
       "      <td>-0.284186</td>\n",
       "      <td>1.000000</td>\n",
       "      <td>-0.821585</td>\n",
       "    </tr>\n",
       "    <tr>\n",
       "      <th>3PA</th>\n",
       "      <td>0.225011</td>\n",
       "      <td>-0.821585</td>\n",
       "      <td>1.000000</td>\n",
       "    </tr>\n",
       "  </tbody>\n",
       "</table>\n",
       "</div>"
      ],
      "text/plain": [
       "            W       2PA       3PA\n",
       "W    1.000000 -0.284186  0.225011\n",
       "2PA -0.284186  1.000000 -0.821585\n",
       "3PA  0.225011 -0.821585  1.000000"
      ]
     },
     "execution_count": 10,
     "metadata": {},
     "output_type": "execute_result"
    }
   ],
   "source": [
    "nba[['W','2PA','3PA']].corr(method='spearman')"
   ]
  },
  {
   "cell_type": "markdown",
   "metadata": {},
   "source": [
    "And Spearman Correlations back us up that 3 pointer attempt has a positive correlation with Wins while 2 pointer attempt has a negative correlation with Wins."
   ]
  },
  {
   "cell_type": "markdown",
   "metadata": {},
   "source": [
    "But shooting more 3s doesn't necessarily mean making more 3s. We want to check if NBA teams are shooting more 3s with higher percentages during past five regular seasons, and how significantly 3P%(3 point percentage) affect Wins."
   ]
  },
  {
   "cell_type": "code",
   "execution_count": 35,
   "metadata": {},
   "outputs": [
    {
     "data": {
      "text/plain": [
       "(30, 40)"
      ]
     },
     "execution_count": 35,
     "metadata": {},
     "output_type": "execute_result"
    },
    {
     "data": {
      "image/png": "[encoded data removed]",
      "text/plain": [
       "<Figure size 432x288 with 1 Axes>"
      ]
     },
     "metadata": {
      "needs_background": "light"
     },
     "output_type": "display_data"
    }
   ],
   "source": [
    "nba.groupby('YEAR')['3P%'].mean().plot()\n",
    "plt.ylim(30,40)"
   ]
  },
  {
   "cell_type": "markdown",
   "metadata": {},
   "source": [
    "The plot shows that NBA teams haven't improved much on their 3 point percentages, and the mean percentage even drops this season."
   ]
  },
  {
   "cell_type": "code",
   "execution_count": 30,
   "metadata": {},
   "outputs": [
    {
     "data": {
      "text/plain": [
       "<seaborn.axisgrid.FacetGrid at 0x1c26b9f5c0>"
      ]
     },
     "execution_count": 30,
     "metadata": {},
     "output_type": "execute_result"
    },
    {
     "data": {
      "image/png": "[encoded data removed]",
      "text/plain": [
       "<Figure size 360x360 with 1 Axes>"
      ]
     },
     "metadata": {
      "needs_background": "light"
     },
     "output_type": "display_data"
    }
   ],
   "source": [
    "sns.lmplot(x='3P%',y='W',data=nba,fit_reg= True)"
   ]
  },
  {
   "cell_type": "code",
   "execution_count": 32,
   "metadata": {},
   "outputs": [
    {
     "name": "stdout",
     "output_type": "stream",
     "text": [
      "                            OLS Regression Results                            \n",
      "==============================================================================\n",
      "Dep. Variable:                    Win   R-squared:                       0.344\n",
      "Model:                            OLS   Adj. R-squared:                  0.340\n",
      "Method:                 Least Squares   F-statistic:                     77.68\n",
      "Date:                Mon, 03 Jun 2019   Prob (F-statistic):           3.05e-15\n",
      "Time:                        16:03:00   Log-Likelihood:                -558.64\n",
      "No. Observations:                 150   AIC:                             1121.\n",
      "Df Residuals:                     148   BIC:                             1127.\n",
      "Df Model:                           1                                         \n",
      "Covariance Type:            nonrobust                                         \n",
      "=====================================================================================\n",
      "                        coef    std err          t      P>|t|      [0.025      0.975]\n",
      "-------------------------------------------------------------------------------------\n",
      "Intercept          -114.0214     17.609     -6.475      0.000    -148.818     -79.225\n",
      "ThreePointPercent     4.3637      0.495      8.813      0.000       3.385       5.342\n",
      "==============================================================================\n",
      "Omnibus:                        3.140   Durbin-Watson:                   0.832\n",
      "Prob(Omnibus):                  0.208   Jarque-Bera (JB):                2.580\n",
      "Skew:                          -0.204   Prob(JB):                        0.275\n",
      "Kurtosis:                       2.504   Cond. No.                         760.\n",
      "==============================================================================\n",
      "\n",
      "Warnings:\n",
      "[1] Standard Errors assume that the covariance matrix of the errors is correctly specified.\n"
     ]
    }
   ],
   "source": [
    "df5 = pd.DataFrame({\"Win\": nba.W, \"ThreePointPercent\":nba['3P%']})\n",
    "result5 = smf.ols(formula=\"Win~ThreePointPercent\", data=df5).fit()\n",
    "print(result5.summary())"
   ]
  },
  {
   "cell_type": "markdown",
   "metadata": {},
   "source": [
    "Nonetheless, based on the linear plot and table, 3 point percentage does significantly increase chances to win, as suggested by a p value of 0. If a NBA team keeps its 3P% up by 1 percent throughout the season, it would win 4.3637 more games! "
   ]
  },
  {
   "cell_type": "markdown",
   "metadata": {},
   "source": [
    "What other factors might affect number of Wins in NBA? We want to explore more.\n",
    "And thus, we chose five teams which have the highest average Win percentages during the past five regular seasons(2014-15 to 2018-19) as \"good teams\", and we chose five teams with the lowest average Win percentages and categorized them as “bad teams”."
   ]
  },
  {
   "cell_type": "code",
   "execution_count": 11,
   "metadata": {},
   "outputs": [
    {
     "data": {
      "text/plain": [
       "TEAM\n",
       "Golden State Warriors    0.7852\n",
       "San Antonio Spurs        0.6780\n",
       "Toronto Raptors          0.6660\n",
       "Houston Rockets          0.6586\n",
       "LA Clippers              0.6096\n",
       "Name: WIN%, dtype: float64"
      ]
     },
     "execution_count": 11,
     "metadata": {},
     "output_type": "execute_result"
    }
   ],
   "source": [
    "nba.groupby('TEAM')['WIN%'].mean().sort_values(ascending=False).head(5)"
   ]
  },
  {
   "cell_type": "code",
   "execution_count": 12,
   "metadata": {},
   "outputs": [
    {
     "data": {
      "text/plain": [
       "TEAM\n",
       "New York Knicks       0.3072\n",
       "Phoenix Suns          0.3074\n",
       "Los Angeles Lakers    0.3316\n",
       "Brooklyn Nets         0.3632\n",
       "Orlando Magic         0.3806\n",
       "Name: WIN%, dtype: float64"
      ]
     },
     "execution_count": 12,
     "metadata": {},
     "output_type": "execute_result"
    }
   ],
   "source": [
    "nba.groupby('TEAM')['WIN%'].mean().sort_values(ascending=True).head(5)"
   ]
  },
  {
   "cell_type": "markdown",
   "metadata": {},
   "source": [
    "Golden State Warriors, San Antonio Spurs, Toronto Raptors, Houston Rockets, and LA Clippers are teams with the better average Win% over the past five regular seasons, which means they perform well consistently, therefore they are good teams."
   ]
  },
  {
   "cell_type": "markdown",
   "metadata": {},
   "source": [
    "New York Knicks, Phoenix Suns, Los Angeles Lakers, Brooklyn Nets, and Orlando Magic are five teams with the lowest average Win%, therefore they are grouped into bad teams."
   ]
  },
  {
   "cell_type": "code",
   "execution_count": 13,
   "metadata": {},
   "outputs": [],
   "source": [
    "good_team=nba.loc[nba.TEAM.isin(['Golden State Warriors','San Antonio Spurs','Toronto Raptors','Houston Rockets','LA Clippers'])]\n",
    "bad_team=nba.loc[nba.TEAM.isin(['New York Knicks','Phoenix Suns','Los Angeles Lakers','Brooklyn Nets','Orlando Magic'])]"
   ]
  },
  {
   "cell_type": "markdown",
   "metadata": {},
   "source": [
    "Because good teams won games way more than bad teams, we want to figure out what causes the difference."
   ]
  },
  {
   "cell_type": "code",
   "execution_count": 14,
   "metadata": {},
   "outputs": [
    {
     "data": {
      "text/plain": [
       "GP             82.00000\n",
       "W              55.72000\n",
       "L              26.28000\n",
       "WIN%            0.67948\n",
       "MIN          3959.20000\n",
       "PTS          8967.76000\n",
       "FGM          3289.16000\n",
       "FGA          6996.76000\n",
       "FG%            46.99200\n",
       "3PM           889.56000\n",
       "3PA          2400.48000\n",
       "3P%            37.14400\n",
       "FTM          1499.88000\n",
       "FTA          1949.68000\n",
       "FT%            77.17200\n",
       "OREB          813.20000\n",
       "DREB         2783.40000\n",
       "REB          3596.60000\n",
       "AST          1975.16000\n",
       "TOV          1142.20000\n",
       "STL           667.44000\n",
       "BLK           441.88000\n",
       "BLKA          356.76000\n",
       "PF           1660.16000\n",
       "PFD          1686.52000\n",
       "+/-           452.20000\n",
       "OFFRTG        111.04800\n",
       "DEFRTG        105.52000\n",
       "NETRTG          5.53200\n",
       "AST%           59.87200\n",
       "AST/TO          1.73360\n",
       "AST RATIO      17.79600\n",
       "OREB%          27.20400\n",
       "DREB%          71.94400\n",
       "REB%           50.08800\n",
       "TOV%           14.14400\n",
       "EFG%           53.34000\n",
       "TS%            57.06800\n",
       "PACE           97.83880\n",
       "PIE            53.17600\n",
       "2PM          2399.60000\n",
       "2PA          4596.28000\n",
       "dtype: float64"
      ]
     },
     "execution_count": 14,
     "metadata": {},
     "output_type": "execute_result"
    }
   ],
   "source": [
    "good_team.mean()"
   ]
  },
  {
   "cell_type": "code",
   "execution_count": 15,
   "metadata": {},
   "outputs": [
    {
     "data": {
      "text/plain": [
       "GP             82.000\n",
       "W              27.720\n",
       "L              54.280\n",
       "WIN%            0.338\n",
       "MIN          3963.400\n",
       "PTS          8452.720\n",
       "FGM          3169.720\n",
       "FGA          7092.520\n",
       "FG%            44.684\n",
       "3PM           730.120\n",
       "3PA          2130.000\n",
       "3P%            34.256\n",
       "FTM          1383.160\n",
       "FTA          1822.120\n",
       "FT%            75.944\n",
       "OREB          857.320\n",
       "DREB         2732.760\n",
       "REB          3590.080\n",
       "AST          1801.880\n",
       "TOV          1209.560\n",
       "STL           601.960\n",
       "BLK           385.680\n",
       "BLKA          416.600\n",
       "PF           1707.680\n",
       "PFD          1615.280\n",
       "+/-          -412.440\n",
       "OFFRTG        104.284\n",
       "DEFRTG        109.252\n",
       "NETRTG         -4.972\n",
       "AST%           56.812\n",
       "AST/TO          1.496\n",
       "AST RATIO      16.380\n",
       "OREB%          27.444\n",
       "DREB%          71.720\n",
       "REB%           49.356\n",
       "TOV%           14.932\n",
       "EFG%           49.816\n",
       "TS%            53.512\n",
       "PACE           98.184\n",
       "PIE            46.732\n",
       "2PM          2439.600\n",
       "2PA          4962.520\n",
       "dtype: float64"
      ]
     },
     "execution_count": 15,
     "metadata": {},
     "output_type": "execute_result"
    }
   ],
   "source": [
    "bad_team.mean()"
   ]
  },
  {
   "cell_type": "code",
   "execution_count": 16,
   "metadata": {},
   "outputs": [
    {
     "data": {
      "text/plain": [
       "GP             0.00000\n",
       "W             28.00000\n",
       "L            -28.00000\n",
       "WIN%           0.34148\n",
       "MIN           -4.20000\n",
       "PTS          515.04000\n",
       "FGM          119.44000\n",
       "FGA          -95.76000\n",
       "FG%            2.30800\n",
       "3PM          159.44000\n",
       "3PA          270.48000\n",
       "3P%            2.88800\n",
       "FTM          116.72000\n",
       "FTA          127.56000\n",
       "FT%            1.22800\n",
       "OREB         -44.12000\n",
       "DREB          50.64000\n",
       "REB            6.52000\n",
       "AST          173.28000\n",
       "TOV          -67.36000\n",
       "STL           65.48000\n",
       "BLK           56.20000\n",
       "BLKA         -59.84000\n",
       "PF           -47.52000\n",
       "PFD           71.24000\n",
       "+/-          864.64000\n",
       "OFFRTG         6.76400\n",
       "DEFRTG        -3.73200\n",
       "NETRTG        10.50400\n",
       "AST%           3.06000\n",
       "AST/TO         0.23760\n",
       "AST RATIO      1.41600\n",
       "OREB%         -0.24000\n",
       "DREB%          0.22400\n",
       "REB%           0.73200\n",
       "TOV%          -0.78800\n",
       "EFG%           3.52400\n",
       "TS%            3.55600\n",
       "PACE          -0.34520\n",
       "PIE            6.44400\n",
       "2PM          -40.00000\n",
       "2PA         -366.24000\n",
       "dtype: float64"
      ]
     },
     "execution_count": 16,
     "metadata": {},
     "output_type": "execute_result"
    }
   ],
   "source": [
    "good_team.mean()-bad_team.mean()"
   ]
  },
  {
   "cell_type": "markdown",
   "metadata": {},
   "source": [
    "In common sense, good teams should perform better than bad teams in each stats category except turnovers and defensive ratings. However, we found some intriguing stats where good teams score less than bad teams. For example, good teams on average have less Field Goal Attempts, Offensive Rebounds, Block Field Goal Attempts, and Pace than bad teams. "
   ]
  },
  {
   "cell_type": "code",
   "execution_count": 17,
   "metadata": {},
   "outputs": [
    {
     "data": {
      "image/png": "[encoded data removed]",
      "text/plain": [
       "<Figure size 1440x720 with 1 Axes>"
      ]
     },
     "metadata": {
      "needs_background": "light"
     },
     "output_type": "display_data"
    }
   ],
   "source": [
    "n_groups = 4\n",
    "means_good = (85.32634,9.917073,4.350732,97.8388)\n",
    "means_bad = (86.494146,10.455122,5.080488,98.184)\n",
    "\n",
    "# create plot\n",
    "fig, ax = plt.subplots(figsize=(20, 10))\n",
    "index = np.arange(n_groups)\n",
    "bar_width = 0.25\n",
    "opacity = 0.65\n",
    "\n",
    "rects1 = plt.bar(index, means_good, bar_width,\n",
    "alpha=opacity,\n",
    "color='b',\n",
    "label='good team')\n",
    "\n",
    "rects2 = plt.bar(index + bar_width, means_bad, bar_width,\n",
    "alpha=opacity,\n",
    "color='r',\n",
    "label='bad team')\n",
    "\n",
    "plt.xticks(index + bar_width, ('FGA','OREB','BLKA','PACE'))\n",
    "plt.legend()\n",
    "plt.show()"
   ]
  },
  {
   "cell_type": "markdown",
   "metadata": {},
   "source": [
    "Contrast with our common knowledge, bad teams on average scores higher in these four categories: Field Goal Attempt, Offensive Rebound, Block Field Goal Attempt, and Pace(possesions/48 minutes). Normally speaking, if a team has more Field Goal Attempts, it tends to score more and hence has a higher chance to outscore its opponent and thus win the game. If a team grabs more Offensive Rebound, it has more second-chance opportunities, which usually means more points as well. If a team attempts to block more shots, then it means the team is more active on the defensive end, which seems to be a good thing to us. And finally, if a team has higher pace, it means the team has more possesions to score. Nevertheless, we should use t-test to check if these differences do exist between good teams and bad teams."
   ]
  },
  {
   "cell_type": "markdown",
   "metadata": {},
   "source": [
    "T-test for FGA"
   ]
  },
  {
   "cell_type": "code",
   "execution_count": 18,
   "metadata": {},
   "outputs": [
    {
     "name": "stdout",
     "output_type": "stream",
     "text": [
      "ttest_ind: t = -1.82886  p = 0.0736533\n"
     ]
    }
   ],
   "source": [
    "good_FGA=good_team.FGA\n",
    "bad_FGA=bad_team.FGA\n",
    "t, p = ttest_ind(good_FGA, bad_FGA, equal_var=False)\n",
    "print(\"ttest_ind: t = %g  p = %g\" % (t, p))"
   ]
  },
  {
   "cell_type": "markdown",
   "metadata": {},
   "source": [
    "p value=0.0736533 is not significant, therefore we cannot conclude that bad teams have more FGA than good teams. "
   ]
  },
  {
   "cell_type": "markdown",
   "metadata": {},
   "source": [
    "T-test for OREB"
   ]
  },
  {
   "cell_type": "code",
   "execution_count": 19,
   "metadata": {},
   "outputs": [
    {
     "name": "stdout",
     "output_type": "stream",
     "text": [
      "ttest_ind: t = -2.34527  p = 0.0232269\n"
     ]
    }
   ],
   "source": [
    "good_OREB=good_team.OREB\n",
    "bad_OREB=bad_team.OREB\n",
    "t, p = ttest_ind(good_OREB, bad_OREB, equal_var=False)\n",
    "print(\"ttest_ind: t = %g  p = %g\" % (t, p))"
   ]
  },
  {
   "cell_type": "markdown",
   "metadata": {},
   "source": [
    "p value=0.0232269 is significant, therefore we can conclude that bad teams have more Offensive Rebounds than good teams. "
   ]
  },
  {
   "cell_type": "markdown",
   "metadata": {},
   "source": [
    "T-test for BLKA"
   ]
  },
  {
   "cell_type": "code",
   "execution_count": 20,
   "metadata": {},
   "outputs": [
    {
     "name": "stdout",
     "output_type": "stream",
     "text": [
      "ttest_ind: t = -3.83839  p = 0.000432915\n"
     ]
    }
   ],
   "source": [
    "good_BLKA=good_team.BLKA\n",
    "bad_BLKA=bad_team.BLKA\n",
    "t, p = ttest_ind(good_BLKA, bad_BLKA, equal_var=False)\n",
    "print(\"ttest_ind: t = %g  p = %g\" % (t, p))"
   ]
  },
  {
   "cell_type": "markdown",
   "metadata": {},
   "source": [
    "p value=0.000432915 is extremely significant, therefore we can conclude that bad teams have more Block Field Goal Attempts than good teams."
   ]
  },
  {
   "cell_type": "markdown",
   "metadata": {},
   "source": [
    "T-test for PACE"
   ]
  },
  {
   "cell_type": "code",
   "execution_count": 21,
   "metadata": {},
   "outputs": [
    {
     "name": "stdout",
     "output_type": "stream",
     "text": [
      "ttest_ind: t = -0.435761  p = 0.664984\n"
     ]
    }
   ],
   "source": [
    "good_PACE=good_team.PACE\n",
    "bad_PACE=bad_team.PACE\n",
    "t, p = ttest_ind(good_PACE, bad_PACE, equal_var=False)\n",
    "print(\"ttest_ind: t = %g  p = %g\" % (t, p))"
   ]
  },
  {
   "cell_type": "markdown",
   "metadata": {},
   "source": [
    "p value=0.664984 is not significant, therefore we cannot conclude that bad teams have higher Pace than good teams. "
   ]
  },
  {
   "cell_type": "code",
   "execution_count": 22,
   "metadata": {},
   "outputs": [
    {
     "data": {
      "text/html": [
       "<div>\n",
       "<style scoped>\n",
       "    .dataframe tbody tr th:only-of-type {\n",
       "        vertical-align: middle;\n",
       "    }\n",
       "\n",
       "    .dataframe tbody tr th {\n",
       "        vertical-align: top;\n",
       "    }\n",
       "\n",
       "    .dataframe thead th {\n",
       "        text-align: right;\n",
       "    }\n",
       "</style>\n",
       "<table border=\"1\" class=\"dataframe\">\n",
       "  <thead>\n",
       "    <tr style=\"text-align: right;\">\n",
       "      <th></th>\n",
       "      <th>OREB</th>\n",
       "      <th>BLKA</th>\n",
       "    </tr>\n",
       "  </thead>\n",
       "  <tbody>\n",
       "    <tr>\n",
       "      <th>OREB</th>\n",
       "      <td>1.000000</td>\n",
       "      <td>0.271713</td>\n",
       "    </tr>\n",
       "    <tr>\n",
       "      <th>BLKA</th>\n",
       "      <td>0.271713</td>\n",
       "      <td>1.000000</td>\n",
       "    </tr>\n",
       "  </tbody>\n",
       "</table>\n",
       "</div>"
      ],
      "text/plain": [
       "          OREB      BLKA\n",
       "OREB  1.000000  0.271713\n",
       "BLKA  0.271713  1.000000"
      ]
     },
     "execution_count": 22,
     "metadata": {},
     "output_type": "execute_result"
    }
   ],
   "source": [
    "nba[['OREB','BLKA']].corr(method='spearman')"
   ]
  },
  {
   "cell_type": "markdown",
   "metadata": {},
   "source": [
    "OREB and BLKA do not have high correlation, therefore we can do a multiple linera regression without concerning multicollinearity."
   ]
  },
  {
   "cell_type": "code",
   "execution_count": 23,
   "metadata": {},
   "outputs": [
    {
     "name": "stdout",
     "output_type": "stream",
     "text": [
      "                            OLS Regression Results                            \n",
      "==============================================================================\n",
      "Dep. Variable:                    WIN   R-squared:                       0.146\n",
      "Model:                            OLS   Adj. R-squared:                  0.068\n",
      "Method:                 Least Squares   F-statistic:                     1.880\n",
      "Date:                Mon, 03 Jun 2019   Prob (F-statistic):              0.176\n",
      "Time:                        15:49:13   Log-Likelihood:                -84.871\n",
      "No. Observations:                  25   AIC:                             175.7\n",
      "Df Residuals:                      22   BIC:                             179.4\n",
      "Df Model:                           2                                         \n",
      "Covariance Type:            nonrobust                                         \n",
      "==============================================================================\n",
      "                 coef    std err          t      P>|t|      [0.025      0.975]\n",
      "------------------------------------------------------------------------------\n",
      "Intercept     80.5153     20.393      3.948      0.001      38.223     122.807\n",
      "OREB          -0.0144      0.030     -0.485      0.633      -0.076       0.047\n",
      "BLKA          -0.0368      0.028     -1.297      0.208      -0.096       0.022\n",
      "==============================================================================\n",
      "Omnibus:                        0.690   Durbin-Watson:                   1.408\n",
      "Prob(Omnibus):                  0.708   Jarque-Bera (JB):                0.750\n",
      "Skew:                           0.258   Prob(JB):                        0.687\n",
      "Kurtosis:                       2.327   Cond. No.                     1.18e+04\n",
      "==============================================================================\n",
      "\n",
      "Warnings:\n",
      "[1] Standard Errors assume that the covariance matrix of the errors is correctly specified.\n",
      "[2] The condition number is large, 1.18e+04. This might indicate that there are\n",
      "strong multicollinearity or other numerical problems.\n"
     ]
    }
   ],
   "source": [
    "df2 = pd.DataFrame({\"WIN\": good_team.W, \"OREB\":good_team.OREB,\"BLKA\":good_team.BLKA, })\n",
    "result2 = smf.ols(formula=\"WIN~OREB+BLKA\", data=df2).fit()\n",
    "print(result2.summary())"
   ]
  },
  {
   "cell_type": "markdown",
   "metadata": {},
   "source": [
    "Based on the multiple linear regression, OREB and BLKA have no significance in determining good teams' Wins."
   ]
  },
  {
   "cell_type": "code",
   "execution_count": 24,
   "metadata": {},
   "outputs": [
    {
     "name": "stdout",
     "output_type": "stream",
     "text": [
      "                            OLS Regression Results                            \n",
      "==============================================================================\n",
      "Dep. Variable:                    WIN   R-squared:                       0.157\n",
      "Model:                            OLS   Adj. R-squared:                  0.081\n",
      "Method:                 Least Squares   F-statistic:                     2.054\n",
      "Date:                Mon, 03 Jun 2019   Prob (F-statistic):              0.152\n",
      "Time:                        15:49:13   Log-Likelihood:                -84.801\n",
      "No. Observations:                  25   AIC:                             175.6\n",
      "Df Residuals:                      22   BIC:                             179.3\n",
      "Df Model:                           2                                         \n",
      "Covariance Type:            nonrobust                                         \n",
      "==============================================================================\n",
      "                 coef    std err          t      P>|t|      [0.025      0.975]\n",
      "------------------------------------------------------------------------------\n",
      "Intercept     54.6566     26.431      2.068      0.051      -0.158     109.471\n",
      "OREB           0.0056      0.023      0.249      0.806      -0.041       0.053\n",
      "BLKA          -0.0763      0.039     -1.978      0.061      -0.156       0.004\n",
      "==============================================================================\n",
      "Omnibus:                        0.154   Durbin-Watson:                   1.544\n",
      "Prob(Omnibus):                  0.926   Jarque-Bera (JB):                0.281\n",
      "Skew:                           0.160   Prob(JB):                        0.869\n",
      "Kurtosis:                       2.591   Cond. No.                     1.65e+04\n",
      "==============================================================================\n",
      "\n",
      "Warnings:\n",
      "[1] Standard Errors assume that the covariance matrix of the errors is correctly specified.\n",
      "[2] The condition number is large, 1.65e+04. This might indicate that there are\n",
      "strong multicollinearity or other numerical problems.\n"
     ]
    }
   ],
   "source": [
    "df3 = pd.DataFrame({\"WIN\": bad_team.W, \"OREB\":bad_team.OREB,\"BLKA\":bad_team.BLKA, })\n",
    "result3 = smf.ols(formula=\"WIN~OREB+BLKA\", data=df3).fit()\n",
    "print(result3.summary())"
   ]
  },
  {
   "cell_type": "markdown",
   "metadata": {},
   "source": [
    "Based on the multiple linear regression, OREB and BLKA have no significance in determining bad teams' Wins as well."
   ]
  },
  {
   "cell_type": "code",
   "execution_count": 25,
   "metadata": {
    "scrolled": true
   },
   "outputs": [
    {
     "name": "stdout",
     "output_type": "stream",
     "text": [
      "                            OLS Regression Results                            \n",
      "==============================================================================\n",
      "Dep. Variable:                    WIN   R-squared:                       0.251\n",
      "Model:                            OLS   Adj. R-squared:                  0.240\n",
      "Method:                 Least Squares   F-statistic:                     24.58\n",
      "Date:                Mon, 03 Jun 2019   Prob (F-statistic):           6.17e-10\n",
      "Time:                        15:49:13   Log-Likelihood:                -568.64\n",
      "No. Observations:                 150   AIC:                             1143.\n",
      "Df Residuals:                     147   BIC:                             1152.\n",
      "Df Model:                           2                                         \n",
      "Covariance Type:            nonrobust                                         \n",
      "==============================================================================\n",
      "                 coef    std err          t      P>|t|      [0.025      0.975]\n",
      "------------------------------------------------------------------------------\n",
      "Intercept     81.0679      9.471      8.559      0.000      62.350      99.786\n",
      "OREB           0.0100      0.010      0.978      0.330      -0.010       0.030\n",
      "BLKA          -0.1219      0.018     -6.935      0.000      -0.157      -0.087\n",
      "==============================================================================\n",
      "Omnibus:                        1.580   Durbin-Watson:                   0.857\n",
      "Prob(Omnibus):                  0.454   Jarque-Bera (JB):                1.351\n",
      "Skew:                          -0.062   Prob(JB):                        0.509\n",
      "Kurtosis:                       2.552   Cond. No.                     1.00e+04\n",
      "==============================================================================\n",
      "\n",
      "Warnings:\n",
      "[1] Standard Errors assume that the covariance matrix of the errors is correctly specified.\n",
      "[2] The condition number is large,  1e+04. This might indicate that there are\n",
      "strong multicollinearity or other numerical problems.\n"
     ]
    }
   ],
   "source": [
    "df4 = pd.DataFrame({\"WIN\": nba.W, \"OREB\":nba.OREB,\"BLKA\":nba.BLKA})\n",
    "result4 = smf.ols(formula=\"WIN~OREB+BLKA\", data=df4).fit()\n",
    "print(result4.summary())"
   ]
  },
  {
   "cell_type": "markdown",
   "metadata": {},
   "source": [
    "Nonetheless, if we perform the model on the whole dataset, BLKA becomes extremely significant. It means if a team attempts to block one more field goal, then it would have 0.1219 less Game Wins."
   ]
  },
  {
   "cell_type": "markdown",
   "metadata": {},
   "source": [
    "Therefore, we reached a conclusion that if a NBA team wants to win more games, do not waste energy on trying to block every opponents' shot."
   ]
  }
 ],
 "metadata": {
  "kernelspec": {
   "display_name": "Python 3",
   "language": "python",
   "name": "python3"
  },
  "language_info": {
   "codemirror_mode": {
    "name": "ipython",
    "version": 3
   },
   "file_extension": ".py",
   "mimetype": "text/x-python",
   "name": "python",
   "nbconvert_exporter": "python",
   "pygments_lexer": "ipython3",
   "version": "3.7.3"
  }
 },
 "nbformat": 4,
 "nbformat_minor": 2
}
