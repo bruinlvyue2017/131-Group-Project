{
 "cells": [
  {
   "cell_type": "markdown",
   "metadata": {},
   "source": [
    "# Team Vintage: What affects NBA Teams Wins"
   ]
  },
  {
   "cell_type": "markdown",
   "metadata": {},
   "source": [
    "## Members: Yue Lyu, Yurui Zhang, Qixin Li, Ronghao Liu"
   ]
  },
  {
   "cell_type": "markdown",
   "metadata": {},
   "source": [
    "## Abstract\n",
    "Basketball is a team sport in which two teams of five players each, competing with one another to put the ball inside the opposing team’s basket. Based on common knowledge, if a team outscores its opponent, then it wins the game. NBA (National Basketball Association) is the consensus best men’s basketball league in the world. We want to dig out more factors which possibly affect the Win percentages of NBA teams aside from their field goal percentages or offensive ratings. Therefore, our study aims to determine which factors significantly affect Win percentages and thus differ a “bad” team from a “good” team. We chose five teams which have the highest average Win percentages during the past five regular seasons(2014-15 to 2018-19) as \"good teams\", and we chose five teams with the lowest average Win percentages and categorized them as “bad teams”. By visualizing the differences in many statistics between good teams and bad teams, we found several interesting variables: Field Goal Attempt (total shots), Offensive Rebounds (team gets the ball of its own miss), Block Field Goal Attempted (try to block on shots made), and Pace (number of possessions per 48 minutes). Bad teams on average scores higher in these four categories than good teams do. We did t-test on each of these variables and found that FGA and PACE do not differ much between good and bad teams. So we conducted multiple linear regressions between Wins, OREB and BLKA. We found the p-values of Offensive Rebounds and Block Field Goal Attempted are not significant for good or bad teams, but BLKA became significant when we apply the model on all teams. As a result, we reached a conclusion that if a NBA team wants to win more games, do not waste energy on trying to block every opponents' shot. "
   ]
  },
  {
   "cell_type": "markdown",
   "metadata": {},
   "source": [
    "## Background\n",
    "Basketball is a sport played between two teams of five players each. Two teams oppose one another and trying to shoot the basketball through defender’s hoop while preventing their own hoop from being shot through. NBA (The National Basketball Association) is a men’s professional basketball league in North America which is considered the premier men’s basketball league in the world. There are 30 teams in the NBA (29 in the United States and 1 in Canada). Those teams are split into two Conferences (West and East), and are further divided into 6 Divisions (Atlantic, Central, Southeast, Northwest, Pacific, and Southwest) based on where they are located. Each year, the NBA's regular season runs from October to April, with each team playing 82 games and 8 teams with the better winning records from each Conference will go to playoffs (16 teams in total). The playoffs extend into June when the Champion team arises from the winners of each Conference. "
   ]
  },
  {
   "cell_type": "markdown",
   "metadata": {},
   "source": [
    "Every basketball player has a position on the court. There are five positions in basketball: Point Guard (who handles the ball and initiate plays), Shooting Guard (literally, shoot to score), Small Forward (can be scorer as well, usually the most important player in each team), Power Forward (set screens and grab rebounds), and Center (center of the team, simple). However, with the evolution of basketball, nowadays the distinction between positions is blurred. Players would take different positions depend on different rosters.  "
   ]
  },
  {
   "cell_type": "markdown",
   "metadata": {},
   "source": [
    "In the basketball world, players are credited in many ways. But scorers are always preferable because overall basketball is a game in which the higher scoring team wins. As 3 pointer is increasingly more valued by NBA teams, scorers who specialize in shooting 3s have become more popular. On the other hand, defenders who compete for every rebound and sacrifice their body to defend and hustle are also welcomed by NBA teams. "
   ]
  },
  {
   "cell_type": "markdown",
   "metadata": {},
   "source": [
    "Basketball involves five players on each team interacting with each other in an infinite number of ways. Historically, useful information, besides typical counting stats like points scored and assists made, was difficult to collect. But beginning in 2009, the league began using a video system that tracked the movement of every player on the court, and the ball, 25 times a second. These new data have pushed forward the league’s analytics movement.\n"
   ]
  },
  {
   "cell_type": "markdown",
   "metadata": {},
   "source": [
    "### Here are the explanantion of all the variables from the data we collected"
   ]
  },
  {
   "cell_type": "markdown",
   "metadata": {},
   "source": [
    "\n",
    "**GP** (Games Played) : the total number of games in which a team has participated<br>\n",
    "**W.** Wins : the total number of games won by a team<br>\n",
    "**L.** Losses : the total number of games lost by a team<br>\n",
    "**WIN%** Win Percentage : **Wins** divided by the total number of Games played<br>\n",
    "**MIN** Minutes Played : the total gametime<br>\n",
    "\n",
    "\n",
    "A **field goal** is a basket scored on any shot or tap other than a free throw, worth two or three points depending on the distance of the attempt from the basket.<br>\n",
    "**FGM** Field Goalds Made<br>\n",
    "**FGA** Field Goals Attempted<br>\n",
    "**FG%** Field Goals Percentage : Field Goalds Made devided by Field Goals Attempted<br>\n",
    "\n",
    "\n",
    "A **three-point field goal** (also 3-pointer, three or informally, trey) is a field goal in a basketball game made from beyond the three-point line, and it's worth 3 points<br>\n",
    "**3PM** 3 Point Field Goals Made<br> \n",
    "**3PA** 3 Point Field Goals Attempted<br> \n",
    "**3P%** 3 Point Field Goals Percentage : 3 Point Field Goals Made devided by 3 Point Field Goals Attempted<br>\n",
    "\n",
    "\n",
    "**Free throws** or **foul shots** are uncontested attempts to score points by shooting from behind the free throw line and it worth 1 point.<br>\n",
    "**FTM** Free Throws Made<br>\n",
    "**FTA** Free Throws Attempted<br> \n",
    "**FT%** Free Throw Percentage: Free Throws Made devided by Free Throws Attempted<br>\n",
    "\n",
    "**OREB** Offensive Rebounds :  in which the ball is recovered by the offensive side and does not change possession<br>\n",
    "**DREB** Defensive Rebounds :  in which the defending team gains possession.<br>\n",
    "**REB** Rebounds : a player who retrieves the basketball after a missed field goal or free throw.<br>\n",
    "\n",
    "**AST** Assists : a player who passes the ball to a teammate in a way that leads to a score by field goal<br>\n",
    "**TOV** Turnovers :a turnover occurs when a team loses possession of the ball to the opposing team before a player takes a shot at their team's basket<br>\n",
    "**STL** Steals :a situation when a defensive player actively takes possession of the ball from an offensive player<br>\n",
    "**BLK** Blocks : a defensive player legally deflects a shot<br>\n",
    "**BLKA** Block Field Goal Attempts : try to block made shots<br>\n",
    "\n",
    "**PF** Personal Fouls : a personal foul is a breach of the rules that concerns illegal personal contact with an opponent<br>\n",
    "**PFD** Personal Fouls Drawn : make opponent commit a Personal Foul on you<br>\n",
    "**PTS** Points : Sum of 2 pointers, 3 pointers, and free throws<br>\n",
    "**+/-** Plus Minus : Outscore opponents by ** points on court<br>\n",
    "**OFFRTG** Offensive Rating : measure either a teams offensive performance or an individual player's efficiency at producing points for the offense<br>\n",
    "**DEFRTG** Defensive Rating : an individual player's efficiency at preventing the other team from scoring points<br>\n",
    "**PACE** Pace: pace is the total number of possessions a team uses in a game.<br>"
   ]
  },
  {
   "cell_type": "code",
   "execution_count": 1,
   "metadata": {},
   "outputs": [],
   "source": [
    "import numpy as np\n",
    "import pandas as pd\n",
    "import matplotlib.pyplot as plt\n",
    "import seaborn as sns\n",
    "import statsmodels.api as sm\n",
    "import statsmodels.formula.api as smf\n",
    "from statsmodels.graphics.gofplots import ProbPlot\n",
    "from sklearn import linear_model\n",
    "from scipy.stats import ttest_ind"
   ]
  },
  {
   "cell_type": "code",
   "execution_count": 2,
   "metadata": {},
   "outputs": [
    {
     "ename": "FileNotFoundError",
     "evalue": "[Errno 2] File b'NBA14-15.csv' does not exist: b'NBA14-15.csv'",
     "output_type": "error",
     "traceback": [
      "\u001b[0;31m---------------------------------------------------------------------------\u001b[0m",
      "\u001b[0;31mFileNotFoundError\u001b[0m                         Traceback (most recent call last)",
      "\u001b[0;32m<ipython-input-2-1364b49bf057>\u001b[0m in \u001b[0;36m<module>\u001b[0;34m\u001b[0m\n\u001b[0;32m----> 1\u001b[0;31m \u001b[0mnba1415\u001b[0m\u001b[0;34m=\u001b[0m\u001b[0mpd\u001b[0m\u001b[0;34m.\u001b[0m\u001b[0mread_csv\u001b[0m\u001b[0;34m(\u001b[0m\u001b[0;34m\"NBA14-15.csv\"\u001b[0m\u001b[0;34m)\u001b[0m\u001b[0;34m\u001b[0m\u001b[0;34m\u001b[0m\u001b[0m\n\u001b[0m\u001b[1;32m      2\u001b[0m \u001b[0mnba1516\u001b[0m\u001b[0;34m=\u001b[0m\u001b[0mpd\u001b[0m\u001b[0;34m.\u001b[0m\u001b[0mread_csv\u001b[0m\u001b[0;34m(\u001b[0m\u001b[0;34m\"NBA15-16.csv\"\u001b[0m\u001b[0;34m)\u001b[0m\u001b[0;34m\u001b[0m\u001b[0;34m\u001b[0m\u001b[0m\n\u001b[1;32m      3\u001b[0m \u001b[0mnba1617\u001b[0m\u001b[0;34m=\u001b[0m\u001b[0mpd\u001b[0m\u001b[0;34m.\u001b[0m\u001b[0mread_csv\u001b[0m\u001b[0;34m(\u001b[0m\u001b[0;34m\"NBA16-17.csv\"\u001b[0m\u001b[0;34m)\u001b[0m\u001b[0;34m\u001b[0m\u001b[0;34m\u001b[0m\u001b[0m\n\u001b[1;32m      4\u001b[0m \u001b[0mnba1718\u001b[0m\u001b[0;34m=\u001b[0m\u001b[0mpd\u001b[0m\u001b[0;34m.\u001b[0m\u001b[0mread_csv\u001b[0m\u001b[0;34m(\u001b[0m\u001b[0;34m\"NBA17-18.csv\"\u001b[0m\u001b[0;34m)\u001b[0m\u001b[0;34m\u001b[0m\u001b[0;34m\u001b[0m\u001b[0m\n\u001b[1;32m      5\u001b[0m \u001b[0mnba1819\u001b[0m\u001b[0;34m=\u001b[0m\u001b[0mpd\u001b[0m\u001b[0;34m.\u001b[0m\u001b[0mread_csv\u001b[0m\u001b[0;34m(\u001b[0m\u001b[0;34m\"NBA18-19.csv\"\u001b[0m\u001b[0;34m)\u001b[0m\u001b[0;34m\u001b[0m\u001b[0;34m\u001b[0m\u001b[0m\n",
      "\u001b[0;32m~/anaconda3/lib/python3.7/site-packages/pandas/io/parsers.py\u001b[0m in \u001b[0;36mparser_f\u001b[0;34m(filepath_or_buffer, sep, delimiter, header, names, index_col, usecols, squeeze, prefix, mangle_dupe_cols, dtype, engine, converters, true_values, false_values, skipinitialspace, skiprows, skipfooter, nrows, na_values, keep_default_na, na_filter, verbose, skip_blank_lines, parse_dates, infer_datetime_format, keep_date_col, date_parser, dayfirst, iterator, chunksize, compression, thousands, decimal, lineterminator, quotechar, quoting, doublequote, escapechar, comment, encoding, dialect, tupleize_cols, error_bad_lines, warn_bad_lines, delim_whitespace, low_memory, memory_map, float_precision)\u001b[0m\n\u001b[1;32m    700\u001b[0m                     skip_blank_lines=skip_blank_lines)\n\u001b[1;32m    701\u001b[0m \u001b[0;34m\u001b[0m\u001b[0m\n\u001b[0;32m--> 702\u001b[0;31m         \u001b[0;32mreturn\u001b[0m \u001b[0m_read\u001b[0m\u001b[0;34m(\u001b[0m\u001b[0mfilepath_or_buffer\u001b[0m\u001b[0;34m,\u001b[0m \u001b[0mkwds\u001b[0m\u001b[0;34m)\u001b[0m\u001b[0;34m\u001b[0m\u001b[0;34m\u001b[0m\u001b[0m\n\u001b[0m\u001b[1;32m    703\u001b[0m \u001b[0;34m\u001b[0m\u001b[0m\n\u001b[1;32m    704\u001b[0m     \u001b[0mparser_f\u001b[0m\u001b[0;34m.\u001b[0m\u001b[0m__name__\u001b[0m \u001b[0;34m=\u001b[0m \u001b[0mname\u001b[0m\u001b[0;34m\u001b[0m\u001b[0;34m\u001b[0m\u001b[0m\n",
      "\u001b[0;32m~/anaconda3/lib/python3.7/site-packages/pandas/io/parsers.py\u001b[0m in \u001b[0;36m_read\u001b[0;34m(filepath_or_buffer, kwds)\u001b[0m\n\u001b[1;32m    427\u001b[0m \u001b[0;34m\u001b[0m\u001b[0m\n\u001b[1;32m    428\u001b[0m     \u001b[0;31m# Create the parser.\u001b[0m\u001b[0;34m\u001b[0m\u001b[0;34m\u001b[0m\u001b[0;34m\u001b[0m\u001b[0m\n\u001b[0;32m--> 429\u001b[0;31m     \u001b[0mparser\u001b[0m \u001b[0;34m=\u001b[0m \u001b[0mTextFileReader\u001b[0m\u001b[0;34m(\u001b[0m\u001b[0mfilepath_or_buffer\u001b[0m\u001b[0;34m,\u001b[0m \u001b[0;34m**\u001b[0m\u001b[0mkwds\u001b[0m\u001b[0;34m)\u001b[0m\u001b[0;34m\u001b[0m\u001b[0;34m\u001b[0m\u001b[0m\n\u001b[0m\u001b[1;32m    430\u001b[0m \u001b[0;34m\u001b[0m\u001b[0m\n\u001b[1;32m    431\u001b[0m     \u001b[0;32mif\u001b[0m \u001b[0mchunksize\u001b[0m \u001b[0;32mor\u001b[0m \u001b[0miterator\u001b[0m\u001b[0;34m:\u001b[0m\u001b[0;34m\u001b[0m\u001b[0;34m\u001b[0m\u001b[0m\n",
      "\u001b[0;32m~/anaconda3/lib/python3.7/site-packages/pandas/io/parsers.py\u001b[0m in \u001b[0;36m__init__\u001b[0;34m(self, f, engine, **kwds)\u001b[0m\n\u001b[1;32m    893\u001b[0m             \u001b[0mself\u001b[0m\u001b[0;34m.\u001b[0m\u001b[0moptions\u001b[0m\u001b[0;34m[\u001b[0m\u001b[0;34m'has_index_names'\u001b[0m\u001b[0;34m]\u001b[0m \u001b[0;34m=\u001b[0m \u001b[0mkwds\u001b[0m\u001b[0;34m[\u001b[0m\u001b[0;34m'has_index_names'\u001b[0m\u001b[0;34m]\u001b[0m\u001b[0;34m\u001b[0m\u001b[0;34m\u001b[0m\u001b[0m\n\u001b[1;32m    894\u001b[0m \u001b[0;34m\u001b[0m\u001b[0m\n\u001b[0;32m--> 895\u001b[0;31m         \u001b[0mself\u001b[0m\u001b[0;34m.\u001b[0m\u001b[0m_make_engine\u001b[0m\u001b[0;34m(\u001b[0m\u001b[0mself\u001b[0m\u001b[0;34m.\u001b[0m\u001b[0mengine\u001b[0m\u001b[0;34m)\u001b[0m\u001b[0;34m\u001b[0m\u001b[0;34m\u001b[0m\u001b[0m\n\u001b[0m\u001b[1;32m    896\u001b[0m \u001b[0;34m\u001b[0m\u001b[0m\n\u001b[1;32m    897\u001b[0m     \u001b[0;32mdef\u001b[0m \u001b[0mclose\u001b[0m\u001b[0;34m(\u001b[0m\u001b[0mself\u001b[0m\u001b[0;34m)\u001b[0m\u001b[0;34m:\u001b[0m\u001b[0;34m\u001b[0m\u001b[0;34m\u001b[0m\u001b[0m\n",
      "\u001b[0;32m~/anaconda3/lib/python3.7/site-packages/pandas/io/parsers.py\u001b[0m in \u001b[0;36m_make_engine\u001b[0;34m(self, engine)\u001b[0m\n\u001b[1;32m   1120\u001b[0m     \u001b[0;32mdef\u001b[0m \u001b[0m_make_engine\u001b[0m\u001b[0;34m(\u001b[0m\u001b[0mself\u001b[0m\u001b[0;34m,\u001b[0m \u001b[0mengine\u001b[0m\u001b[0;34m=\u001b[0m\u001b[0;34m'c'\u001b[0m\u001b[0;34m)\u001b[0m\u001b[0;34m:\u001b[0m\u001b[0;34m\u001b[0m\u001b[0;34m\u001b[0m\u001b[0m\n\u001b[1;32m   1121\u001b[0m         \u001b[0;32mif\u001b[0m \u001b[0mengine\u001b[0m \u001b[0;34m==\u001b[0m \u001b[0;34m'c'\u001b[0m\u001b[0;34m:\u001b[0m\u001b[0;34m\u001b[0m\u001b[0;34m\u001b[0m\u001b[0m\n\u001b[0;32m-> 1122\u001b[0;31m             \u001b[0mself\u001b[0m\u001b[0;34m.\u001b[0m\u001b[0m_engine\u001b[0m \u001b[0;34m=\u001b[0m \u001b[0mCParserWrapper\u001b[0m\u001b[0;34m(\u001b[0m\u001b[0mself\u001b[0m\u001b[0;34m.\u001b[0m\u001b[0mf\u001b[0m\u001b[0;34m,\u001b[0m \u001b[0;34m**\u001b[0m\u001b[0mself\u001b[0m\u001b[0;34m.\u001b[0m\u001b[0moptions\u001b[0m\u001b[0;34m)\u001b[0m\u001b[0;34m\u001b[0m\u001b[0;34m\u001b[0m\u001b[0m\n\u001b[0m\u001b[1;32m   1123\u001b[0m         \u001b[0;32melse\u001b[0m\u001b[0;34m:\u001b[0m\u001b[0;34m\u001b[0m\u001b[0;34m\u001b[0m\u001b[0m\n\u001b[1;32m   1124\u001b[0m             \u001b[0;32mif\u001b[0m \u001b[0mengine\u001b[0m \u001b[0;34m==\u001b[0m \u001b[0;34m'python'\u001b[0m\u001b[0;34m:\u001b[0m\u001b[0;34m\u001b[0m\u001b[0;34m\u001b[0m\u001b[0m\n",
      "\u001b[0;32m~/anaconda3/lib/python3.7/site-packages/pandas/io/parsers.py\u001b[0m in \u001b[0;36m__init__\u001b[0;34m(self, src, **kwds)\u001b[0m\n\u001b[1;32m   1851\u001b[0m         \u001b[0mkwds\u001b[0m\u001b[0;34m[\u001b[0m\u001b[0;34m'usecols'\u001b[0m\u001b[0;34m]\u001b[0m \u001b[0;34m=\u001b[0m \u001b[0mself\u001b[0m\u001b[0;34m.\u001b[0m\u001b[0musecols\u001b[0m\u001b[0;34m\u001b[0m\u001b[0;34m\u001b[0m\u001b[0m\n\u001b[1;32m   1852\u001b[0m \u001b[0;34m\u001b[0m\u001b[0m\n\u001b[0;32m-> 1853\u001b[0;31m         \u001b[0mself\u001b[0m\u001b[0;34m.\u001b[0m\u001b[0m_reader\u001b[0m \u001b[0;34m=\u001b[0m \u001b[0mparsers\u001b[0m\u001b[0;34m.\u001b[0m\u001b[0mTextReader\u001b[0m\u001b[0;34m(\u001b[0m\u001b[0msrc\u001b[0m\u001b[0;34m,\u001b[0m \u001b[0;34m**\u001b[0m\u001b[0mkwds\u001b[0m\u001b[0;34m)\u001b[0m\u001b[0;34m\u001b[0m\u001b[0;34m\u001b[0m\u001b[0m\n\u001b[0m\u001b[1;32m   1854\u001b[0m         \u001b[0mself\u001b[0m\u001b[0;34m.\u001b[0m\u001b[0munnamed_cols\u001b[0m \u001b[0;34m=\u001b[0m \u001b[0mself\u001b[0m\u001b[0;34m.\u001b[0m\u001b[0m_reader\u001b[0m\u001b[0;34m.\u001b[0m\u001b[0munnamed_cols\u001b[0m\u001b[0;34m\u001b[0m\u001b[0;34m\u001b[0m\u001b[0m\n\u001b[1;32m   1855\u001b[0m \u001b[0;34m\u001b[0m\u001b[0m\n",
      "\u001b[0;32mpandas/_libs/parsers.pyx\u001b[0m in \u001b[0;36mpandas._libs.parsers.TextReader.__cinit__\u001b[0;34m()\u001b[0m\n",
      "\u001b[0;32mpandas/_libs/parsers.pyx\u001b[0m in \u001b[0;36mpandas._libs.parsers.TextReader._setup_parser_source\u001b[0;34m()\u001b[0m\n",
      "\u001b[0;31mFileNotFoundError\u001b[0m: [Errno 2] File b'NBA14-15.csv' does not exist: b'NBA14-15.csv'"
     ]
    }
   ],
   "source": [
    "nba1415=pd.read_csv(\"NBA14-15.csv\")\n",
    "nba1516=pd.read_csv(\"NBA15-16.csv\")\n",
    "nba1617=pd.read_csv(\"NBA16-17.csv\")\n",
    "nba1718=pd.read_csv(\"NBA17-18.csv\")\n",
    "nba1819=pd.read_csv(\"NBA18-19.csv\")\n",
    "nba1415['YEAR']=\"2014-15\"\n",
    "nba1516['YEAR']=\"2015-16\"\n",
    "nba1617['YEAR']=\"2016-17\"\n",
    "nba1718['YEAR']=\"2017-18\"\n",
    "nba1819['YEAR']=\"2018-19\""
   ]
  },
  {
   "cell_type": "code",
   "execution_count": null,
   "metadata": {},
   "outputs": [],
   "source": [
    "nba=pd.concat([nba1415,nba1516,nba1617,nba1718,nba1819])\n",
    "nba['TEAM']=np.where(nba['TEAM']=='Los Angeles Clippers','LA Clippers',nba['TEAM'])\n",
    "nba['2PM']=nba.FGM-nba['3PM']\n",
    "nba['2PA']=nba.FGA-nba['3PA']\n",
    "nba['2P%']=nba['2PM']/nba['2PA']\n",
    "nba['indicator'] = np.where(nba['TEAM'] == 'Golden State Warriors', 'Golden State Warriors', 'Other teams')\n",
    "nba.head()"
   ]
  },
  {
   "cell_type": "code",
   "execution_count": null,
   "metadata": {},
   "outputs": [],
   "source": [
    "cor = nba.iloc[:, 4:33].corr()\n",
    "plt.figure(figsize=(20,20))\n",
    "mask = np.zeros_like(cor, dtype=np.bool)\n",
    "mask[np.triu_indices_from(mask)] = True\n",
    "sns.heatmap(cor, mask = mask, annot = True, cmap = sns.diverging_palette(20, 220, n=256))\n",
    "plt.title('Correlation Heatmap')\n",
    "\n",
    "plt.show()"
   ]
  },
  {
   "cell_type": "markdown",
   "metadata": {},
   "source": [
    "We decided to first visualize the correlation among variables by drawing a Pearson correlation heatmap. We will be focusing on the correlation between WINs and other variables."
   ]
  },
  {
   "cell_type": "code",
   "execution_count": null,
   "metadata": {},
   "outputs": [],
   "source": [
    "df7 = pd.DataFrame({\"Win\": nba.W, \"ThreePointPercent\":nba['3P%'], \"TwoPointPercent\":nba['2P%'],\"FTPercent\":nba['FT%'],\"REB\":nba.REB,\"AST\":nba.AST,\"TOV\":nba.TOV,\"STL\":nba.STL,\"BLK\":nba.BLK,\"PF\":nba.PF,\"PACE\":nba.PACE})\n",
    "result7 = smf.ols(formula=\"Win~ThreePointPercent+TwoPointPercent+FTPercent+REB+AST+TOV+STL+BLK+PF+PACE\", data=df7).fit()\n",
    "print(result7.summary())"
   ]
  },
  {
   "cell_type": "markdown",
   "metadata": {},
   "source": [
    "Based on common knowledge, we constructed this model. It shows that 3P%, 2P%, Free Throw%, Rebound, Turnover, Steal and PACE all have significant effects on Wins. However, this model is too straight forward."
   ]
  },
  {
   "cell_type": "markdown",
   "metadata": {},
   "source": [
    "### Theme: Explore how three pointers affect wins and find the other factors that differ bad teams from good teams in the NBA between 2014 - 2019 Regular Seasons."
   ]
  },
  {
   "cell_type": "code",
   "execution_count": null,
   "metadata": {},
   "outputs": [],
   "source": [
    "nba.groupby(['YEAR'])['3PA'].mean().plot()\n",
    "plt.ylim(0,6000)"
   ]
  },
  {
   "cell_type": "markdown",
   "metadata": {},
   "source": [
    "Over the past five Regular Seasons, NBA teams shot increasingly more 3 pointers."
   ]
  },
  {
   "cell_type": "code",
   "execution_count": null,
   "metadata": {},
   "outputs": [],
   "source": [
    "nba.groupby(['YEAR'])['2PA'].mean().plot()\n",
    "plt.ylim(0,6000)"
   ]
  },
  {
   "cell_type": "markdown",
   "metadata": {},
   "source": [
    "We can see a slight downward slope in 2-point attempts over the past five NBA Regular Seasons. It means NBA teams are taking less twos."
   ]
  },
  {
   "cell_type": "code",
   "execution_count": null,
   "metadata": {},
   "outputs": [],
   "source": [
    "nba.groupby(['YEAR'])['FTA'].mean().plot()\n",
    "plt.ylim(0,2000)"
   ]
  },
  {
   "cell_type": "markdown",
   "metadata": {},
   "source": [
    "There is no obvious change in Free Throw Attempt during the past five seasons."
   ]
  },
  {
   "cell_type": "markdown",
   "metadata": {},
   "source": [
    "##### So why NBA has the trend of shooting more 3s and less 2s? We wanna see how 2 and 3 pointers translate into Game Wins."
   ]
  },
  {
   "cell_type": "code",
   "execution_count": null,
   "metadata": {},
   "outputs": [],
   "source": [
    "sns.lmplot(x='2PA',y='W',data=nba,fit_reg= True)"
   ]
  },
  {
   "cell_type": "code",
   "execution_count": null,
   "metadata": {},
   "outputs": [],
   "source": [
    "sns.lmplot(x='3PA',y='W',data=nba,fit_reg= True)"
   ]
  },
  {
   "cell_type": "markdown",
   "metadata": {},
   "source": [
    "Linear plot shows that shooting more 3s obviously improves Wins while shooting more 2s would harm Game Wins."
   ]
  },
  {
   "cell_type": "code",
   "execution_count": null,
   "metadata": {},
   "outputs": [],
   "source": [
    "df = pd.DataFrame({\"Win\": nba.W, \"TwoPA\":nba['2PA']})\n",
    "result = smf.ols(formula=\"Win~TwoPA\", data=df).fit()\n",
    "print(result.summary())"
   ]
  },
  {
   "cell_type": "markdown",
   "metadata": {},
   "source": [
    "From the linear regression model between Win and 2PM, we can see if a NBA team shoot one more 2 pointer, its Game Win would decrease by 0.0092, and a p value of 0.001 suggests significance, which means shooting 2s defintely hurt a team's wins."
   ]
  },
  {
   "cell_type": "code",
   "execution_count": null,
   "metadata": {},
   "outputs": [],
   "source": [
    "df1 = pd.DataFrame({\"Win\": nba.W, \"ThreePA\":nba['3PA']})\n",
    "result1 = smf.ols(formula=\"Win~ThreePA\", data=df1).fit()\n",
    "print(result1.summary())"
   ]
  },
  {
   "cell_type": "markdown",
   "metadata": {},
   "source": [
    "From the linear regression model between Win and 3PA, we can see if a NBA team shoot one more 3 pointer, its Game Win would increase by 0.0068, and a p value of 0.003 suggests extreme significance."
   ]
  },
  {
   "cell_type": "markdown",
   "metadata": {},
   "source": [
    "As a result, we find it easy to explain why NBA teams are taking more 3s and less 2s, becasue making one more 3 will have 0.0160 more Game Wins than making one more 2."
   ]
  },
  {
   "cell_type": "code",
   "execution_count": null,
   "metadata": {},
   "outputs": [],
   "source": [
    "nba[['W','2PA','3PA']].corr(method='spearman')"
   ]
  },
  {
   "cell_type": "markdown",
   "metadata": {},
   "source": [
    "And Spearman Correlations back us up that 3-point attempt has a positive correlation with Wins while 2-point attempt has a negative correlation with Wins."
   ]
  },
  {
   "cell_type": "markdown",
   "metadata": {},
   "source": [
    "But shooting more 3s doesn't necessarily mean making more 3s. We want to check if NBA teams are shooting more 3s with increasing percentages during past five regular seasons, and how significantly 3P%(3 point percentage) affect Wins."
   ]
  },
  {
   "cell_type": "code",
   "execution_count": null,
   "metadata": {},
   "outputs": [],
   "source": [
    "nba.groupby('YEAR')['3P%'].mean().plot()\n",
    "plt.ylim(0,40)"
   ]
  },
  {
   "cell_type": "markdown",
   "metadata": {},
   "source": [
    "The plot shows that NBA teams haven't improved much on their 3 point percentages, and the mean percentage even drops this season."
   ]
  },
  {
   "cell_type": "code",
   "execution_count": null,
   "metadata": {},
   "outputs": [],
   "source": [
    "sns.jointplot('3P%', 'W', data = nba, kind = 'reg', marginal_kws = dict(bins = 30))"
   ]
  },
  {
   "cell_type": "code",
   "execution_count": null,
   "metadata": {},
   "outputs": [],
   "source": [
    "df5 = pd.DataFrame({\"Win\": nba.W, \"ThreePointPercent\":nba['3P%']})\n",
    "result5 = smf.ols(formula=\"Win~ThreePointPercent\", data=df5).fit()\n",
    "print(result5.summary())"
   ]
  },
  {
   "cell_type": "markdown",
   "metadata": {},
   "source": [
    "Nonetheless, based on the linear plot and table, 3 point percentage does significantly increase chances to win, as suggested by a p value of 0. If a NBA team keeps its 3P% up by 1 percent throughout the season, it would win 4.3637 more games! "
   ]
  },
  {
   "cell_type": "code",
   "execution_count": null,
   "metadata": {},
   "outputs": [],
   "source": [
    "plt.figure(figsize=(8,6))\n",
    "sns.swarmplot(x = 'YEAR', y = '3P%', data = nba, hue = 'indicator')\n",
    "plt.title('3P% vs. YEAR')"
   ]
  },
  {
   "cell_type": "markdown",
   "metadata": {},
   "source": [
    "As we can see, Golden State Warriors has one of the best 3 point percentage which explains its success in recent years (3 champions in last four playoffs)."
   ]
  },
  {
   "cell_type": "markdown",
   "metadata": {},
   "source": [
    "What other factors might affect number of Wins in NBA? We want to explore more.\n",
    "And thus, we chose five teams which have the highest average Win percentages during the past five regular seasons(2014-15 to 2018-19) as \"good teams\", and we chose five teams with the lowest average Win percentages and categorized them as “bad teams”."
   ]
  },
  {
   "cell_type": "code",
   "execution_count": null,
   "metadata": {},
   "outputs": [],
   "source": [
    "nba.groupby('TEAM')['WIN%'].mean().sort_values(ascending=False).head(5)"
   ]
  },
  {
   "cell_type": "code",
   "execution_count": null,
   "metadata": {},
   "outputs": [],
   "source": [
    "nba.groupby('TEAM')['WIN%'].mean().sort_values(ascending=True).head(5)"
   ]
  },
  {
   "cell_type": "markdown",
   "metadata": {},
   "source": [
    "Golden State Warriors, San Antonio Spurs, Toronto Raptors, Houston Rockets, and LA Clippers are teams with the better average Win% over the past five regular seasons, which means they perform well consistently, therefore they are good teams."
   ]
  },
  {
   "cell_type": "markdown",
   "metadata": {},
   "source": [
    "New York Knicks, Phoenix Suns, Los Angeles Lakers, Brooklyn Nets, and Orlando Magic are five teams with the lowest average Win%, therefore they are grouped into bad teams."
   ]
  },
  {
   "cell_type": "code",
   "execution_count": null,
   "metadata": {},
   "outputs": [],
   "source": [
    "good_team=nba.loc[nba.TEAM.isin(['Golden State Warriors','San Antonio Spurs','Toronto Raptors','Houston Rockets','LA Clippers'])]\n",
    "bad_team=nba.loc[nba.TEAM.isin(['New York Knicks','Phoenix Suns','Los Angeles Lakers','Brooklyn Nets','Orlando Magic'])]"
   ]
  },
  {
   "cell_type": "markdown",
   "metadata": {},
   "source": [
    "Because good teams won games way more than bad teams, we want to figure out what causes the difference."
   ]
  },
  {
   "cell_type": "code",
   "execution_count": null,
   "metadata": {},
   "outputs": [],
   "source": [
    "good_team.mean()"
   ]
  },
  {
   "cell_type": "code",
   "execution_count": null,
   "metadata": {},
   "outputs": [],
   "source": [
    "bad_team.mean()"
   ]
  },
  {
   "cell_type": "code",
   "execution_count": null,
   "metadata": {},
   "outputs": [],
   "source": [
    "good_team.mean()-bad_team.mean()"
   ]
  },
  {
   "cell_type": "markdown",
   "metadata": {},
   "source": [
    "In common sense, good teams should perform better than bad teams in every stats category except turnovers and defensive ratings. However, we found some intriguing stats where good teams score less than bad teams. For example, good teams on average have less Field Goal Attempts, Offensive Rebounds, Block Field Goal Attempts, and Pace than bad teams. "
   ]
  },
  {
   "cell_type": "code",
   "execution_count": null,
   "metadata": {},
   "outputs": [],
   "source": [
    "n_groups = 4\n",
    "means_good = (85.32634,9.917073,4.350732,97.8388)\n",
    "means_bad = (86.494146,10.455122,5.080488,98.184)\n",
    "\n",
    "# create plot\n",
    "fig, ax = plt.subplots(figsize=(20, 10))\n",
    "index = np.arange(n_groups)\n",
    "bar_width = 0.25\n",
    "opacity = 0.65\n",
    "\n",
    "rects1 = plt.bar(index, means_good, bar_width,\n",
    "alpha=opacity,\n",
    "color='b',\n",
    "label='good team')\n",
    "\n",
    "rects2 = plt.bar(index + bar_width, means_bad, bar_width,\n",
    "alpha=opacity,\n",
    "color='r',\n",
    "label='bad team')\n",
    "\n",
    "plt.xticks(index + bar_width, ('FGA','OREB','BLKA','PACE'))\n",
    "plt.legend()\n",
    "plt.show()"
   ]
  },
  {
   "cell_type": "markdown",
   "metadata": {},
   "source": [
    "Contrast with our common knowledge, bad teams on average scores higher in these four categories: Field Goal Attempt, Offensive Rebound, Block Field Goal Attempt, and Pace(possesions/48 minutes).<br><br>\n",
    "Normally speaking, if a team has more Field Goal Attempts, it tends to score more and hence has a higher chance to outscore its opponent and thus win the game.<br><br> \n",
    "If a team grabs more Offensive Rebound, it has more second-chance opportunities, which usually means more points as well.<br><br>\n",
    "If a team attempts to block more shots, then it means the team is more active on the defensive end, which seems to be a good thing to us.<br><br>\n",
    "And finally, if a team has higher pace, it means the team has more possesions to score. Nevertheless, we should use t-test to check if these differences do exist between good teams and bad teams."
   ]
  },
  {
   "cell_type": "markdown",
   "metadata": {},
   "source": [
    "## Model Selection"
   ]
  },
  {
   "cell_type": "markdown",
   "metadata": {},
   "source": [
    "**T-test for FGA**"
   ]
  },
  {
   "cell_type": "markdown",
   "metadata": {},
   "source": [
    "H0: mean good team FGA = mean bad team FGA<br>\n",
    "Ha: mean good team FGA != mean bad team FGA"
   ]
  },
  {
   "cell_type": "code",
   "execution_count": null,
   "metadata": {},
   "outputs": [],
   "source": [
    "good_FGA=good_team.FGA\n",
    "bad_FGA=bad_team.FGA\n",
    "t, p = ttest_ind(good_FGA, bad_FGA, equal_var=False)\n",
    "print(\"ttest_ind: t = %g  p = %g\" % (t, p))"
   ]
  },
  {
   "cell_type": "markdown",
   "metadata": {},
   "source": [
    "p value=0.0736533 is not significant, therefore bad teams have the same FGA as good teams. "
   ]
  },
  {
   "cell_type": "markdown",
   "metadata": {},
   "source": [
    "**T-test for OREB**"
   ]
  },
  {
   "cell_type": "markdown",
   "metadata": {},
   "source": [
    "H0: mean good team OREB = mean bad team OREB<br>\n",
    "Ha: mean good team OREB != mean bad team OREB"
   ]
  },
  {
   "cell_type": "code",
   "execution_count": null,
   "metadata": {},
   "outputs": [],
   "source": [
    "good_OREB=good_team.OREB\n",
    "bad_OREB=bad_team.OREB\n",
    "t, p = ttest_ind(good_OREB, bad_OREB, equal_var=False)\n",
    "print(\"ttest_ind: t = %g  p = %g\" % (t, p))"
   ]
  },
  {
   "cell_type": "markdown",
   "metadata": {},
   "source": [
    "p value=0.0232269 is significant, therefore we can conclude that bad teams have more Offensive Rebounds than good teams. "
   ]
  },
  {
   "cell_type": "markdown",
   "metadata": {},
   "source": [
    "**T-test for BLKA**"
   ]
  },
  {
   "cell_type": "markdown",
   "metadata": {},
   "source": [
    "H0: mean good team BLKA = mean bad team BLKA<br>\n",
    "Ha: mean good team BLKA != mean bad team BLKA"
   ]
  },
  {
   "cell_type": "code",
   "execution_count": null,
   "metadata": {},
   "outputs": [],
   "source": [
    "good_BLKA=good_team.BLKA\n",
    "bad_BLKA=bad_team.BLKA\n",
    "t, p = ttest_ind(good_BLKA, bad_BLKA, equal_var=False)\n",
    "print(\"ttest_ind: t = %g  p = %g\" % (t, p))"
   ]
  },
  {
   "cell_type": "markdown",
   "metadata": {},
   "source": [
    "p value=0.000432915 is extremely significant, therefore we can conclude that bad teams have more Block Field Goal Attempts than good teams."
   ]
  },
  {
   "cell_type": "markdown",
   "metadata": {},
   "source": [
    "**T-test for PACE**"
   ]
  },
  {
   "cell_type": "markdown",
   "metadata": {},
   "source": [
    "H0: mean good team PACE = mean bad team PACE<br>\n",
    "Ha: mean good team PACE != mean bad team PACE"
   ]
  },
  {
   "cell_type": "code",
   "execution_count": null,
   "metadata": {},
   "outputs": [],
   "source": [
    "good_PACE=good_team.PACE\n",
    "bad_PACE=bad_team.PACE\n",
    "t, p = ttest_ind(good_PACE, bad_PACE, equal_var=False)\n",
    "print(\"ttest_ind: t = %g  p = %g\" % (t, p))"
   ]
  },
  {
   "cell_type": "markdown",
   "metadata": {},
   "source": [
    "p value=0.664984 is not significant, therefore bad teams roughly have the same Pace as good teams. "
   ]
  },
  {
   "cell_type": "code",
   "execution_count": null,
   "metadata": {},
   "outputs": [],
   "source": [
    "nba[['OREB','BLKA']].corr(method='spearman')"
   ]
  },
  {
   "cell_type": "markdown",
   "metadata": {},
   "source": [
    "OREB and BLKA do not have high correlation, therefore we can do a multiple linear regression without concerning multicollinearity."
   ]
  },
  {
   "cell_type": "code",
   "execution_count": null,
   "metadata": {},
   "outputs": [],
   "source": [
    "df2 = pd.DataFrame({\"WIN\": good_team.W, \"OREB\":good_team.OREB,\"BLKA\":good_team.BLKA, })\n",
    "result2 = smf.ols(formula=\"WIN~OREB+BLKA\", data=df2).fit()\n",
    "print(result2.summary())"
   ]
  },
  {
   "cell_type": "markdown",
   "metadata": {},
   "source": [
    "Based on the multiple linear regression, OREB and BLKA have no significance in determining good teams' Wins."
   ]
  },
  {
   "cell_type": "code",
   "execution_count": null,
   "metadata": {
    "scrolled": true
   },
   "outputs": [],
   "source": [
    "df3 = pd.DataFrame({\"WIN\": bad_team.W, \"OREB\":bad_team.OREB,\"BLKA\":bad_team.BLKA, })\n",
    "result3 = smf.ols(formula=\"WIN~OREB+BLKA\", data=df3).fit()\n",
    "print(result3.summary())"
   ]
  },
  {
   "cell_type": "markdown",
   "metadata": {},
   "source": [
    "Based on the multiple linear regression, OREB and BLKA have no significance in determining bad teams' Wins as well."
   ]
  },
  {
   "cell_type": "code",
   "execution_count": null,
   "metadata": {},
   "outputs": [],
   "source": [
    "x = pd.concat([nba.OREB,nba.BLKA],axis=1)\n",
    "y = pd.DataFrame(nba.W)\n",
    "model = sm.OLS(y, sm.add_constant(x))\n",
    "model_fit = model.fit()\n",
    "\n",
    "dataframe = pd.concat([x, y], axis=1)"
   ]
  },
  {
   "cell_type": "code",
   "execution_count": null,
   "metadata": {},
   "outputs": [],
   "source": [
    "model_fitted_y = model_fit.fittedvalues\n",
    "\n",
    "model_residuals = model_fit.resid\n",
    "\n",
    "model_norm_residuals = model_fit.get_influence().resid_studentized_internal\n",
    "\n",
    "model_norm_residuals_abs_sqrt = np.sqrt(np.abs(model_norm_residuals))\n",
    "\n",
    "model_abs_resid = np.abs(model_residuals)\n",
    "\n",
    "model_leverage = model_fit.get_influence().hat_matrix_diag\n",
    "\n",
    "model_cooks = model_fit.get_influence().cooks_distance[0]\n",
    "\n",
    "plot_lm_1 = plt.figure()\n",
    "plot_lm_1.axes[0] = sns.residplot(model_fitted_y, dataframe.columns[-1], data=dataframe,\n",
    "                          lowess=True,\n",
    "                          scatter_kws={'alpha': 0.5},\n",
    "                          line_kws={'color': 'red', 'lw': 1, 'alpha': 0.8})\n",
    "\n",
    "plot_lm_1.axes[0].set_title('Residuals vs Fitted')\n",
    "plot_lm_1.axes[0].set_xlabel('Fitted values')\n",
    "plot_lm_1.axes[0].set_ylabel('Residuals')"
   ]
  },
  {
   "cell_type": "code",
   "execution_count": null,
   "metadata": {},
   "outputs": [],
   "source": [
    "QQ = ProbPlot(model_norm_residuals)\n",
    "plot_lm_2 = QQ.qqplot(line='45', alpha=0.5, color='#4C72B0', lw=1)\n",
    "plot_lm_2.axes[0].set_title('Normal Q-Q')\n",
    "plot_lm_2.axes[0].set_xlabel('Theoretical Quantiles')\n",
    "plot_lm_2.axes[0].set_ylabel('Standardized Residuals');\n",
    "# annotations\n",
    "abs_norm_resid = np.flip(np.argsort(np.abs(model_norm_residuals)), 0)\n",
    "abs_norm_resid_top_3 = abs_norm_resid[:3]\n",
    "for r, i in enumerate(abs_norm_resid_top_3):\n",
    "    plot_lm_2.axes[0].annotate(i,\n",
    "                               xy=(np.flip(QQ.theoretical_quantiles, 0)[r],\n",
    "                                   model_norm_residuals[i]))"
   ]
  },
  {
   "cell_type": "markdown",
   "metadata": {},
   "source": [
    "From the diagnostic plots, we conclude that our model assumptions are not violated."
   ]
  },
  {
   "cell_type": "code",
   "execution_count": null,
   "metadata": {
    "scrolled": false
   },
   "outputs": [],
   "source": [
    "df4 = pd.DataFrame({\"WIN\": nba.W, \"OREB\":nba.OREB,\"BLKA\":nba.BLKA})\n",
    "result4 = smf.ols(formula=\"WIN~OREB+BLKA\", data=df4).fit()\n",
    "print(result4.summary())"
   ]
  },
  {
   "cell_type": "code",
   "execution_count": null,
   "metadata": {},
   "outputs": [],
   "source": [
    "result4.fittedvalues.copy()"
   ]
  },
  {
   "cell_type": "markdown",
   "metadata": {},
   "source": [
    "Nonetheless, if we perform the model on the whole dataset, BLKA becomes extremely significant. It means if a team attempts to block one more field goal, then it would have 0.1219 less Game Wins."
   ]
  },
  {
   "cell_type": "markdown",
   "metadata": {},
   "source": [
    "## Conlusion"
   ]
  },
  {
   "cell_type": "markdown",
   "metadata": {},
   "source": [
    "Therefore, we reached a conclusion that if a NBA team wants to win more games, do not waste energy on trying to block every opponents' shot."
   ]
  }
 ],
 "metadata": {
  "kernelspec": {
   "display_name": "Python 3",
   "language": "python",
   "name": "python3"
  },
  "language_info": {
   "codemirror_mode": {
    "name": "ipython",
    "version": 3
   },
   "file_extension": ".py",
   "mimetype": "text/x-python",
   "name": "python",
   "nbconvert_exporter": "python",
   "pygments_lexer": "ipython3",
   "version": "3.7.3"
  }
 },
 "nbformat": 4,
 "nbformat_minor": 2
}
